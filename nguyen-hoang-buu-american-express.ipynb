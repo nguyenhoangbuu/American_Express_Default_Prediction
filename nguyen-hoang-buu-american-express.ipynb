{
 "cells": [
  {
   "cell_type": "code",
   "execution_count": 1,
   "id": "2e54ceaf",
   "metadata": {
    "_cell_guid": "b1076dfc-b9ad-4769-8c92-a6c4dae69d19",
    "_uuid": "8f2839f25d086af736a60e9eeb907d3b93b6e0e5",
    "execution": {
     "iopub.execute_input": "2023-07-22T07:54:42.330464Z",
     "iopub.status.busy": "2023-07-22T07:54:42.330092Z",
     "iopub.status.idle": "2023-07-22T07:54:42.348674Z",
     "shell.execute_reply": "2023-07-22T07:54:42.347283Z"
    },
    "papermill": {
     "duration": 0.041641,
     "end_time": "2023-07-22T07:54:42.350694",
     "exception": false,
     "start_time": "2023-07-22T07:54:42.309053",
     "status": "completed"
    },
    "tags": []
   },
   "outputs": [
    {
     "name": "stdout",
     "output_type": "stream",
     "text": [
      "/kaggle/input/amex-default-prediction/sample_submission.csv\n",
      "/kaggle/input/amex-default-prediction/train_data.csv\n",
      "/kaggle/input/amex-default-prediction/test_data.csv\n",
      "/kaggle/input/amex-default-prediction/train_labels.csv\n",
      "/kaggle/input/amex-data-integer-dtypes-parquet-format/train.parquet\n",
      "/kaggle/input/amex-data-integer-dtypes-parquet-format/test.parquet\n"
     ]
    }
   ],
   "source": [
    "# This Python 3 environment comes with many helpful analytics libraries installed\n",
    "# It is defined by the kaggle/python Docker image: https://github.com/kaggle/docker-python\n",
    "# For example, here's several helpful packages to load\n",
    "\n",
    "import numpy as np # linear algebra\n",
    "import pandas as pd # data processing, CSV file I/O (e.g. pd.read_csv)\n",
    "from tqdm import tqdm\n",
    "import matplotlib.pyplot as plt\n",
    "import gc\n",
    "#import cupy\n",
    "#import cudf\n",
    "# Input data files are available in the read-only \"../input/\" directory\n",
    "# For example, running this (by clicking run or pressing Shift+Enter) will list all files under the input directory\n",
    "\n",
    "import os\n",
    "for dirname, _, filenames in os.walk('/kaggle/input'):\n",
    "    for filename in filenames:\n",
    "        print(os.path.join(dirname, filename))\n",
    "\n",
    "# You can write up to 20GB to the current directory (/kaggle/working/) that gets preserved as output when you create a version using \"Save & Run All\" \n",
    "# You can also write temporary files to /kaggle/temp/, but they won't be saved outside of the current session"
   ]
  },
  {
   "cell_type": "code",
   "execution_count": 2,
   "id": "62a6f2fa",
   "metadata": {
    "execution": {
     "iopub.execute_input": "2023-07-22T07:54:42.395851Z",
     "iopub.status.busy": "2023-07-22T07:54:42.395381Z",
     "iopub.status.idle": "2023-07-22T07:54:42.401980Z",
     "shell.execute_reply": "2023-07-22T07:54:42.401275Z"
    },
    "papermill": {
     "duration": 0.037342,
     "end_time": "2023-07-22T07:54:42.407510",
     "exception": false,
     "start_time": "2023-07-22T07:54:42.370168",
     "status": "completed"
    },
    "tags": []
   },
   "outputs": [],
   "source": [
    "def load_data(path=''):\n",
    "    df = pd.read_parquet(path)\n",
    "    #df['customer_ID'] = df['customer_ID'].str[-16:].str.hex_to_int().astype('int64')\n",
    "    df.S_2 = pd.to_datetime(df.S_2, errors='coerce')\n",
    "    df = df.sort_values(['customer_ID','S_2'])\n",
    "    \n",
    "    df['S_2_dateofweek'] = df['S_2'].dt.weekday\n",
    "    df['S_2_dateofmonth'] = df['S_2'].dt.day\n",
    "    \n",
    "    null_vals = df.isnull().sum() / df.shape[0]\n",
    "    print(null_vals.head())\n",
    "    null_cols = null_vals[null_vals>0.3].index.values\n",
    "    for col in null_cols:\n",
    "        df[col + 'null'] = df[col].isnull().astype(int)\n",
    "    df = df.drop(columns=['S_2'])\n",
    "    return df"
   ]
  },
  {
   "cell_type": "code",
   "execution_count": 3,
   "id": "d7c46314",
   "metadata": {
    "execution": {
     "iopub.execute_input": "2023-07-22T07:54:42.448780Z",
     "iopub.status.busy": "2023-07-22T07:54:42.448413Z",
     "iopub.status.idle": "2023-07-22T07:54:42.468207Z",
     "shell.execute_reply": "2023-07-22T07:54:42.466716Z"
    },
    "papermill": {
     "duration": 0.046169,
     "end_time": "2023-07-22T07:54:42.471620",
     "exception": false,
     "start_time": "2023-07-22T07:54:42.425451",
     "status": "completed"
    },
    "tags": []
   },
   "outputs": [],
   "source": [
    "def feature_engineer(df):\n",
    "    all_cols = [c for c in list(df.columns) if c not in ['customer_ID','S_2']]\n",
    "    cat1_features = [\"B_30\",\"B_38\",\"D_114\",\"D_116\",\"D_117\",\"D_120\",\"D_126\",\"D_63\",\"D_64\",\"D_66\",\"D_68\"]\n",
    "    cat2_features = [\n",
    "                    'B_31','B_32','B_33','D_103','D_109','D_111','D_127',\n",
    "                    'D_129','D_135','D_137','D_139','D_140','D_143','D_86',\n",
    "                    'D_87','D_92','D_93','D_94','D_96','R_15','R_19','R_2','R_21',\n",
    "                    'R_22','R_23','R_24','R_25','R_28','R_4','S_18','S_20','S_6'\n",
    "                       ]\n",
    "    cat3_features = [\n",
    "                    'R_9','R_18','R_10','R_11','D_89','D_91','D_81','D_82','D_136',\n",
    "                    'D_138','D_51','D_123','D_125','D_108','B_41','B_22',\n",
    "                       ]\n",
    "    null_values = df.isnull().sum()/df.shape[0]\n",
    "    print('type null_values',type(null_values))\n",
    "    exnullcols = null_values[null_values>0.9].index.tolist()\n",
    "    print('type exnullcols',type(exnullcols))\n",
    "    print(exnullcols)\n",
    "    nullcols = null_values[null_values>0.3].index.tolist()\n",
    "    print('type nullcols',type(nullcols))\n",
    "    print(nullcols)\n",
    "    nullprefixcols = [col+'null' for col in nullcols]\n",
    "    \n",
    "    cat_cols = cat1_features + cat2_features + cat3_features + exnullcols + nullprefixcols\n",
    "    num_cols = [col for col in all_cols if col not in cat_cols]\n",
    "    \n",
    "    num_df = df.groupby('customer_ID')[num_cols].agg(['first','mean','std','min','max','last'])\n",
    "    num_df.columns = ['_'.join(col) for col in num_df.columns]\n",
    "    \n",
    "    cat1_df = df.groupby('customer_ID')[cat1_features].agg(['first','last','nunique'])\n",
    "    cat1_df.columns = ['_'.join(col) for col in cat1_df.columns]\n",
    "    cat2_df = df.groupby('customer_ID')[cat2_features].agg(['first','last','nunique'])\n",
    "    cat2_df.columns = ['_'.join(col) for col in cat2_df.columns]\n",
    "    cat3_df = df.groupby('customer_ID')[cat3_features].agg(['first','last','nunique','mean','std','min','max'])\n",
    "    cat3_df.columns = ['_'.join(col) for col in cat3_df.columns]\n",
    "    cat4_df = df.groupby('customer_ID')[exnullcols].agg(['last'])\n",
    "    cat4_df.columns = ['_'.join(col) for col in cat4_df.columns]\n",
    "    cat5_df = df.groupby('customer_ID')[nullprefixcols].agg(['count'])\n",
    "    cat5_df.columns = ['_'.join(col) for col in cat5_df.columns]\n",
    "    \n",
    "    temp1 = df.groupby('customer_ID')['P_2'].agg(['count'])\n",
    "    #temp1.reset_index()\n",
    "    temp1.columns = ['nstatements']\n",
    "    #temp1 = temp1.set_index('customer_ID')\n",
    "    print(temp1.head())\n",
    "    \n",
    "    df = pd.concat([num_df,cat1_df,cat2_df,cat3_df,cat4_df,cat5_df,temp1],axis=1)\n",
    "    del num_df,cat1_df,cat2_df,cat3_df,cat4_df,cat5_df,temp1\n",
    "    _ = gc.collect()\n",
    "    return df\n",
    "    "
   ]
  },
  {
   "cell_type": "code",
   "execution_count": 4,
   "id": "34c5eb6e",
   "metadata": {
    "execution": {
     "iopub.execute_input": "2023-07-22T07:54:42.512265Z",
     "iopub.status.busy": "2023-07-22T07:54:42.511857Z",
     "iopub.status.idle": "2023-07-22T07:54:42.530813Z",
     "shell.execute_reply": "2023-07-22T07:54:42.528925Z"
    },
    "papermill": {
     "duration": 0.040853,
     "end_time": "2023-07-22T07:54:42.533042",
     "exception": false,
     "start_time": "2023-07-22T07:54:42.492189",
     "status": "completed"
    },
    "tags": []
   },
   "outputs": [],
   "source": [
    "def denoise(df):\n",
    "    for col in tqdm(df.columns):\n",
    "        if col not in ['customer_ID','S_2']:\n",
    "            df[col] = np.floor(df[col]*100)\n",
    "    return df\n",
    "def one_hot_encoding(df,cols,del_col=True):\n",
    "    print(df.shape)\n",
    "    for col in cols:\n",
    "        dummies = pd.get_dummies(df[col],prefix='onehot_%s'%col)\n",
    "        df = pd.concat([df,dummies],axis=1)\n",
    "    print(df.shape)\n",
    "    if del_col == True:\n",
    "        df.drop(cols,axis=1,inplace=True)\n",
    "    print(df.shape)\n",
    "    return df\n",
    "def categ_feature(df):\n",
    "    col_one_hot = [col for col in df.columns if 'onehot' in col]\n",
    "    if lastk is None:\n",
    "        one_hot_df = df.groupby('customer_ID',sort=False)[col_one_hot].agg(['mean','std','sum','last'])\n",
    "    else:\n",
    "        one_hot_df = df.groupby('customer_ID',sort=False)[col_one_hot].agg(['mean','std','sum'])\n",
    "    if lastk is None:\n",
    "        cat_df = df.groupby('customer_ID',sort=False)[cat_feature].agg(['last','nunique'])\n",
    "    else:\n",
    "        cat_df = df.groupby('customer_ID',sort=False)[cat_feature].agg(['nunique'])\n",
    "    day_df = df.groupby('customer_ID',sort=False)['S_2'].agg('count')\n",
    "    df = df.concat([one_hot_df,cat_df,day_df],axis=1)\n",
    "    return df\n",
    "def num_feature(df):\n",
    "    if num_features[0][:5]=='rank_':\n",
    "        num_df = df.groupby('customer_ID',sort=False)[num_features].agg(['last'])\n",
    "    else:\n",
    "        if lastk is None:\n",
    "            num_df = df.groupby('customer_ID',sort=False)[num_features].agg(['mean','std','max','min','sum','last'])\n",
    "        else:\n",
    "            num_df = df.groupby('customer_ID',sort=False)[num_features].agg(['mean','std','max','min','sum'])\n",
    "        for col in num_df.columns:\n",
    "            num_df[col] = num_df[col]//0.01\n",
    "    df = num_df.reset_index()\n",
    "    return df\n",
    "def diff_feature(df):\n",
    "    diff_features = [f'diff_{col}' for col in num_features]\n",
    "    cus = df['customer_ID'].values\n",
    "    df = df.groupby('customer_ID',sort=False)[num_features].diff().add_prefix('diff_')\n",
    "    df.insert(0,'customer_ID',cus)\n",
    "    if lastk in None:\n",
    "        diff_df = df.groupby('customer_ID',sort=False)[diff_features].agg(['mean','std','min','max','sum','last'])\n",
    "    else:\n",
    "        diff_df = df.groupby('customer_ID',sort=False)[diff_features].agg(['mean','std','min','max','sum'])\n",
    "    for col in diff_df.columns:\n",
    "        diff_df[col] = diff_df[col]//0.01\n",
    "    diff_df.reset_index()\n",
    "    return df"
   ]
  },
  {
   "cell_type": "code",
   "execution_count": 5,
   "id": "43cced2f",
   "metadata": {
    "execution": {
     "iopub.execute_input": "2023-07-22T07:54:42.569388Z",
     "iopub.status.busy": "2023-07-22T07:54:42.569028Z",
     "iopub.status.idle": "2023-07-22T07:55:09.379410Z",
     "shell.execute_reply": "2023-07-22T07:55:09.377459Z"
    },
    "papermill": {
     "duration": 26.832259,
     "end_time": "2023-07-22T07:55:09.382247",
     "exception": false,
     "start_time": "2023-07-22T07:54:42.549988",
     "status": "completed"
    },
    "tags": []
   },
   "outputs": [
    {
     "name": "stdout",
     "output_type": "stream",
     "text": [
      "customer_ID    0.000000\n",
      "S_2            0.000000\n",
      "P_2            0.008313\n",
      "D_39           0.000000\n",
      "B_1            0.000000\n",
      "dtype: float64\n"
     ]
    }
   ],
   "source": [
    "train = load_data('/kaggle/input/amex-data-integer-dtypes-parquet-format/train.parquet')"
   ]
  },
  {
   "cell_type": "code",
   "execution_count": 6,
   "id": "9e22ff74",
   "metadata": {
    "execution": {
     "iopub.execute_input": "2023-07-22T07:55:09.421736Z",
     "iopub.status.busy": "2023-07-22T07:55:09.420902Z",
     "iopub.status.idle": "2023-07-22T07:56:30.742828Z",
     "shell.execute_reply": "2023-07-22T07:56:30.740952Z"
    },
    "papermill": {
     "duration": 81.345326,
     "end_time": "2023-07-22T07:56:30.746041",
     "exception": false,
     "start_time": "2023-07-22T07:55:09.400715",
     "status": "completed"
    },
    "tags": []
   },
   "outputs": [
    {
     "name": "stdout",
     "output_type": "stream",
     "text": [
      "type null_values <class 'pandas.core.series.Series'>\n",
      "type exnullcols <class 'list'>\n",
      "['D_73', 'B_29', 'D_88', 'D_110', 'B_39', 'B_42', 'D_132', 'D_134']\n",
      "type nullcols <class 'list'>\n",
      "['D_42', 'D_50', 'D_53', 'D_56', 'S_9', 'B_17', 'D_73', 'D_76', 'D_77', 'B_29', 'D_88', 'D_105', 'D_110', 'B_39', 'B_42', 'D_132', 'D_134', 'D_142']\n",
      "                                                    nstatements\n",
      "customer_ID                                                    \n",
      "0000099d6bd597052cdcda90ffabf56573fe9d7c79be5fb...           13\n",
      "00000fd6641609c6ece5454664794f0340ad84dddce9a26...           13\n",
      "00001b22f846c82c51f6e3958ccd81970162bae8b007e80...           13\n",
      "000041bdba6ecadd89a52d11886e8eaaec9325906c97233...           13\n",
      "00007889e4fcd2614b6cbe7f8f3d2e5c728eca32d9eb8ad...           13\n"
     ]
    }
   ],
   "source": [
    "train = feature_engineer(train)"
   ]
  },
  {
   "cell_type": "code",
   "execution_count": 7,
   "id": "1dfca87e",
   "metadata": {
    "execution": {
     "iopub.execute_input": "2023-07-22T07:56:30.780750Z",
     "iopub.status.busy": "2023-07-22T07:56:30.780357Z",
     "iopub.status.idle": "2023-07-22T07:56:33.348062Z",
     "shell.execute_reply": "2023-07-22T07:56:33.345745Z"
    },
    "papermill": {
     "duration": 2.588644,
     "end_time": "2023-07-22T07:56:33.350845",
     "exception": false,
     "start_time": "2023-07-22T07:56:30.762201",
     "status": "completed"
    },
    "tags": []
   },
   "outputs": [],
   "source": [
    "train_label = pd.read_csv('/kaggle/input/amex-default-prediction/train_labels.csv')\n",
    "submission = pd.read_csv('/kaggle/input/amex-default-prediction/sample_submission.csv')"
   ]
  },
  {
   "cell_type": "code",
   "execution_count": 8,
   "id": "3596a52f",
   "metadata": {
    "execution": {
     "iopub.execute_input": "2023-07-22T07:56:33.391295Z",
     "iopub.status.busy": "2023-07-22T07:56:33.389781Z",
     "iopub.status.idle": "2023-07-22T07:57:31.572874Z",
     "shell.execute_reply": "2023-07-22T07:57:31.571805Z"
    },
    "papermill": {
     "duration": 58.206096,
     "end_time": "2023-07-22T07:57:31.575355",
     "exception": false,
     "start_time": "2023-07-22T07:56:33.369259",
     "status": "completed"
    },
    "tags": []
   },
   "outputs": [
    {
     "name": "stdout",
     "output_type": "stream",
     "text": [
      "customer_ID    0.000000\n",
      "S_2            0.000000\n",
      "P_2            0.005269\n",
      "D_39           0.000000\n",
      "B_1            0.000000\n",
      "dtype: float64\n"
     ]
    }
   ],
   "source": [
    "test = load_data('/kaggle/input/amex-data-integer-dtypes-parquet-format/test.parquet')"
   ]
  },
  {
   "cell_type": "code",
   "execution_count": 9,
   "id": "30f2fc3f",
   "metadata": {
    "execution": {
     "iopub.execute_input": "2023-07-22T07:57:31.607638Z",
     "iopub.status.busy": "2023-07-22T07:57:31.606858Z",
     "iopub.status.idle": "2023-07-22T08:00:22.609290Z",
     "shell.execute_reply": "2023-07-22T08:00:22.607760Z"
    },
    "papermill": {
     "duration": 171.021597,
     "end_time": "2023-07-22T08:00:22.611940",
     "exception": false,
     "start_time": "2023-07-22T07:57:31.590343",
     "status": "completed"
    },
    "tags": []
   },
   "outputs": [
    {
     "name": "stdout",
     "output_type": "stream",
     "text": [
      "type null_values <class 'pandas.core.series.Series'>\n",
      "type exnullcols <class 'list'>\n",
      "['D_73', 'D_88', 'D_110', 'B_39', 'B_42', 'D_134']\n",
      "type nullcols <class 'list'>\n",
      "['D_42', 'D_43', 'D_50', 'D_53', 'D_56', 'S_9', 'B_17', 'D_73', 'D_76', 'D_77', 'B_29', 'D_88', 'D_105', 'D_110', 'B_39', 'B_42', 'D_132', 'D_134', 'D_142']\n",
      "                                                    nstatements\n",
      "customer_ID                                                    \n",
      "00000469ba478561f23a92a868bd366de6f6527a684c9a2...            9\n",
      "00001bf2e77ff879fab36aa4fac689b9ba411dae63ae397...           13\n",
      "0000210045da4f81e5f122c6bde5c2a617d03eef67f82c5...           13\n",
      "00003b41e58ede33b8daf61ab56d9952f17c9ad1c3976cf...           13\n",
      "00004b22eaeeeb0ec976890c1d9bfc14fd9427e98c4ee9a...           13\n"
     ]
    }
   ],
   "source": [
    "test = feature_engineer(test)"
   ]
  },
  {
   "cell_type": "code",
   "execution_count": 10,
   "id": "0b42af56",
   "metadata": {
    "execution": {
     "iopub.execute_input": "2023-07-22T08:00:22.645233Z",
     "iopub.status.busy": "2023-07-22T08:00:22.644851Z",
     "iopub.status.idle": "2023-07-22T08:00:23.596336Z",
     "shell.execute_reply": "2023-07-22T08:00:23.594702Z"
    },
    "papermill": {
     "duration": 0.97106,
     "end_time": "2023-07-22T08:00:23.599042",
     "exception": false,
     "start_time": "2023-07-22T08:00:22.627982",
     "status": "completed"
    },
    "tags": []
   },
   "outputs": [],
   "source": [
    "train_label.reset_index()\n",
    "train_label = train_label.set_index('customer_ID')\n",
    "train = train.merge(train_label,left_index=True,right_index=True,how='left')"
   ]
  },
  {
   "cell_type": "code",
   "execution_count": 11,
   "id": "ebcdf38c",
   "metadata": {
    "execution": {
     "iopub.execute_input": "2023-07-22T08:00:23.635976Z",
     "iopub.status.busy": "2023-07-22T08:00:23.635617Z",
     "iopub.status.idle": "2023-07-22T08:00:23.643748Z",
     "shell.execute_reply": "2023-07-22T08:00:23.642148Z"
    },
    "papermill": {
     "duration": 0.027202,
     "end_time": "2023-07-22T08:00:23.645989",
     "exception": false,
     "start_time": "2023-07-22T08:00:23.618787",
     "status": "completed"
    },
    "tags": []
   },
   "outputs": [
    {
     "name": "stdout",
     "output_type": "stream",
     "text": [
      "(458913, 1007)\n",
      "(924621, 1017)\n"
     ]
    }
   ],
   "source": [
    "print(train.shape)\n",
    "print(test.shape)"
   ]
  },
  {
   "cell_type": "code",
   "execution_count": 12,
   "id": "a033cd00",
   "metadata": {
    "execution": {
     "iopub.execute_input": "2023-07-22T08:00:23.680296Z",
     "iopub.status.busy": "2023-07-22T08:00:23.679915Z",
     "iopub.status.idle": "2023-07-22T08:00:23.687142Z",
     "shell.execute_reply": "2023-07-22T08:00:23.685392Z"
    },
    "papermill": {
     "duration": 0.027364,
     "end_time": "2023-07-22T08:00:23.689693",
     "exception": false,
     "start_time": "2023-07-22T08:00:23.662329",
     "status": "completed"
    },
    "tags": []
   },
   "outputs": [],
   "source": [
    "all_cols = [col for col in train.columns if col in test.columns]"
   ]
  },
  {
   "cell_type": "code",
   "execution_count": 13,
   "id": "5a369e45",
   "metadata": {
    "execution": {
     "iopub.execute_input": "2023-07-22T08:00:23.722855Z",
     "iopub.status.busy": "2023-07-22T08:00:23.722507Z",
     "iopub.status.idle": "2023-07-22T08:00:23.768462Z",
     "shell.execute_reply": "2023-07-22T08:00:23.766901Z"
    },
    "papermill": {
     "duration": 0.064411,
     "end_time": "2023-07-22T08:00:23.770427",
     "exception": false,
     "start_time": "2023-07-22T08:00:23.706016",
     "status": "completed"
    },
    "tags": []
   },
   "outputs": [
    {
     "data": {
      "text/html": [
       "<div>\n",
       "<style scoped>\n",
       "    .dataframe tbody tr th:only-of-type {\n",
       "        vertical-align: middle;\n",
       "    }\n",
       "\n",
       "    .dataframe tbody tr th {\n",
       "        vertical-align: top;\n",
       "    }\n",
       "\n",
       "    .dataframe thead th {\n",
       "        text-align: right;\n",
       "    }\n",
       "</style>\n",
       "<table border=\"1\" class=\"dataframe\">\n",
       "  <thead>\n",
       "    <tr style=\"text-align: right;\">\n",
       "      <th></th>\n",
       "      <th>P_2_first</th>\n",
       "      <th>P_2_mean</th>\n",
       "      <th>P_2_std</th>\n",
       "      <th>P_2_min</th>\n",
       "      <th>P_2_max</th>\n",
       "      <th>P_2_last</th>\n",
       "      <th>D_39_first</th>\n",
       "      <th>D_39_mean</th>\n",
       "      <th>D_39_std</th>\n",
       "      <th>D_39_min</th>\n",
       "      <th>...</th>\n",
       "      <th>D_88null_count</th>\n",
       "      <th>D_105null_count</th>\n",
       "      <th>D_110null_count</th>\n",
       "      <th>B_39null_count</th>\n",
       "      <th>B_42null_count</th>\n",
       "      <th>D_132null_count</th>\n",
       "      <th>D_134null_count</th>\n",
       "      <th>D_142null_count</th>\n",
       "      <th>nstatements</th>\n",
       "      <th>target</th>\n",
       "    </tr>\n",
       "    <tr>\n",
       "      <th>customer_ID</th>\n",
       "      <th></th>\n",
       "      <th></th>\n",
       "      <th></th>\n",
       "      <th></th>\n",
       "      <th></th>\n",
       "      <th></th>\n",
       "      <th></th>\n",
       "      <th></th>\n",
       "      <th></th>\n",
       "      <th></th>\n",
       "      <th></th>\n",
       "      <th></th>\n",
       "      <th></th>\n",
       "      <th></th>\n",
       "      <th></th>\n",
       "      <th></th>\n",
       "      <th></th>\n",
       "      <th></th>\n",
       "      <th></th>\n",
       "      <th></th>\n",
       "      <th></th>\n",
       "    </tr>\n",
       "  </thead>\n",
       "  <tbody>\n",
       "    <tr>\n",
       "      <th>0000099d6bd597052cdcda90ffabf56573fe9d7c79be5fbac11a8ed792feb62a</th>\n",
       "      <td>0.938469</td>\n",
       "      <td>0.933824</td>\n",
       "      <td>0.024194</td>\n",
       "      <td>0.868580</td>\n",
       "      <td>0.960384</td>\n",
       "      <td>0.934745</td>\n",
       "      <td>0</td>\n",
       "      <td>0.230769</td>\n",
       "      <td>0.832050</td>\n",
       "      <td>0</td>\n",
       "      <td>...</td>\n",
       "      <td>13</td>\n",
       "      <td>13</td>\n",
       "      <td>13</td>\n",
       "      <td>13</td>\n",
       "      <td>13</td>\n",
       "      <td>13</td>\n",
       "      <td>13</td>\n",
       "      <td>13</td>\n",
       "      <td>13</td>\n",
       "      <td>0</td>\n",
       "    </tr>\n",
       "    <tr>\n",
       "      <th>00000fd6641609c6ece5454664794f0340ad84dddce9a267a310b5ae68e9d8e5</th>\n",
       "      <td>0.929122</td>\n",
       "      <td>0.899820</td>\n",
       "      <td>0.022119</td>\n",
       "      <td>0.861109</td>\n",
       "      <td>0.929122</td>\n",
       "      <td>0.880519</td>\n",
       "      <td>13</td>\n",
       "      <td>7.153846</td>\n",
       "      <td>6.743468</td>\n",
       "      <td>0</td>\n",
       "      <td>...</td>\n",
       "      <td>13</td>\n",
       "      <td>13</td>\n",
       "      <td>13</td>\n",
       "      <td>13</td>\n",
       "      <td>13</td>\n",
       "      <td>13</td>\n",
       "      <td>13</td>\n",
       "      <td>13</td>\n",
       "      <td>13</td>\n",
       "      <td>0</td>\n",
       "    </tr>\n",
       "    <tr>\n",
       "      <th>00001b22f846c82c51f6e3958ccd81970162bae8b007e80662ef27519fcc18c1</th>\n",
       "      <td>0.876615</td>\n",
       "      <td>0.878454</td>\n",
       "      <td>0.028911</td>\n",
       "      <td>0.797670</td>\n",
       "      <td>0.904482</td>\n",
       "      <td>0.880875</td>\n",
       "      <td>0</td>\n",
       "      <td>0.000000</td>\n",
       "      <td>0.000000</td>\n",
       "      <td>0</td>\n",
       "      <td>...</td>\n",
       "      <td>13</td>\n",
       "      <td>13</td>\n",
       "      <td>13</td>\n",
       "      <td>13</td>\n",
       "      <td>13</td>\n",
       "      <td>13</td>\n",
       "      <td>13</td>\n",
       "      <td>13</td>\n",
       "      <td>13</td>\n",
       "      <td>0</td>\n",
       "    </tr>\n",
       "    <tr>\n",
       "      <th>000041bdba6ecadd89a52d11886e8eaaec9325906c9723355abb5ca523658edc</th>\n",
       "      <td>0.567442</td>\n",
       "      <td>0.598969</td>\n",
       "      <td>0.020107</td>\n",
       "      <td>0.567442</td>\n",
       "      <td>0.623392</td>\n",
       "      <td>0.621776</td>\n",
       "      <td>9</td>\n",
       "      <td>1.538462</td>\n",
       "      <td>3.017046</td>\n",
       "      <td>0</td>\n",
       "      <td>...</td>\n",
       "      <td>13</td>\n",
       "      <td>13</td>\n",
       "      <td>13</td>\n",
       "      <td>13</td>\n",
       "      <td>13</td>\n",
       "      <td>13</td>\n",
       "      <td>13</td>\n",
       "      <td>13</td>\n",
       "      <td>13</td>\n",
       "      <td>0</td>\n",
       "    </tr>\n",
       "    <tr>\n",
       "      <th>00007889e4fcd2614b6cbe7f8f3d2e5c728eca32d9eb8ad51ca8b8c4a24cefed</th>\n",
       "      <td>0.936842</td>\n",
       "      <td>0.891679</td>\n",
       "      <td>0.042325</td>\n",
       "      <td>0.805045</td>\n",
       "      <td>0.940382</td>\n",
       "      <td>0.871900</td>\n",
       "      <td>0</td>\n",
       "      <td>0.000000</td>\n",
       "      <td>0.000000</td>\n",
       "      <td>0</td>\n",
       "      <td>...</td>\n",
       "      <td>13</td>\n",
       "      <td>13</td>\n",
       "      <td>13</td>\n",
       "      <td>13</td>\n",
       "      <td>13</td>\n",
       "      <td>13</td>\n",
       "      <td>13</td>\n",
       "      <td>13</td>\n",
       "      <td>13</td>\n",
       "      <td>0</td>\n",
       "    </tr>\n",
       "  </tbody>\n",
       "</table>\n",
       "<p>5 rows × 1007 columns</p>\n",
       "</div>"
      ],
      "text/plain": [
       "                                                    P_2_first  P_2_mean  \\\n",
       "customer_ID                                                               \n",
       "0000099d6bd597052cdcda90ffabf56573fe9d7c79be5fb...   0.938469  0.933824   \n",
       "00000fd6641609c6ece5454664794f0340ad84dddce9a26...   0.929122  0.899820   \n",
       "00001b22f846c82c51f6e3958ccd81970162bae8b007e80...   0.876615  0.878454   \n",
       "000041bdba6ecadd89a52d11886e8eaaec9325906c97233...   0.567442  0.598969   \n",
       "00007889e4fcd2614b6cbe7f8f3d2e5c728eca32d9eb8ad...   0.936842  0.891679   \n",
       "\n",
       "                                                     P_2_std   P_2_min  \\\n",
       "customer_ID                                                              \n",
       "0000099d6bd597052cdcda90ffabf56573fe9d7c79be5fb...  0.024194  0.868580   \n",
       "00000fd6641609c6ece5454664794f0340ad84dddce9a26...  0.022119  0.861109   \n",
       "00001b22f846c82c51f6e3958ccd81970162bae8b007e80...  0.028911  0.797670   \n",
       "000041bdba6ecadd89a52d11886e8eaaec9325906c97233...  0.020107  0.567442   \n",
       "00007889e4fcd2614b6cbe7f8f3d2e5c728eca32d9eb8ad...  0.042325  0.805045   \n",
       "\n",
       "                                                     P_2_max  P_2_last  \\\n",
       "customer_ID                                                              \n",
       "0000099d6bd597052cdcda90ffabf56573fe9d7c79be5fb...  0.960384  0.934745   \n",
       "00000fd6641609c6ece5454664794f0340ad84dddce9a26...  0.929122  0.880519   \n",
       "00001b22f846c82c51f6e3958ccd81970162bae8b007e80...  0.904482  0.880875   \n",
       "000041bdba6ecadd89a52d11886e8eaaec9325906c97233...  0.623392  0.621776   \n",
       "00007889e4fcd2614b6cbe7f8f3d2e5c728eca32d9eb8ad...  0.940382  0.871900   \n",
       "\n",
       "                                                    D_39_first  D_39_mean  \\\n",
       "customer_ID                                                                 \n",
       "0000099d6bd597052cdcda90ffabf56573fe9d7c79be5fb...           0   0.230769   \n",
       "00000fd6641609c6ece5454664794f0340ad84dddce9a26...          13   7.153846   \n",
       "00001b22f846c82c51f6e3958ccd81970162bae8b007e80...           0   0.000000   \n",
       "000041bdba6ecadd89a52d11886e8eaaec9325906c97233...           9   1.538462   \n",
       "00007889e4fcd2614b6cbe7f8f3d2e5c728eca32d9eb8ad...           0   0.000000   \n",
       "\n",
       "                                                    D_39_std  D_39_min  ...  \\\n",
       "customer_ID                                                             ...   \n",
       "0000099d6bd597052cdcda90ffabf56573fe9d7c79be5fb...  0.832050         0  ...   \n",
       "00000fd6641609c6ece5454664794f0340ad84dddce9a26...  6.743468         0  ...   \n",
       "00001b22f846c82c51f6e3958ccd81970162bae8b007e80...  0.000000         0  ...   \n",
       "000041bdba6ecadd89a52d11886e8eaaec9325906c97233...  3.017046         0  ...   \n",
       "00007889e4fcd2614b6cbe7f8f3d2e5c728eca32d9eb8ad...  0.000000         0  ...   \n",
       "\n",
       "                                                    D_88null_count  \\\n",
       "customer_ID                                                          \n",
       "0000099d6bd597052cdcda90ffabf56573fe9d7c79be5fb...              13   \n",
       "00000fd6641609c6ece5454664794f0340ad84dddce9a26...              13   \n",
       "00001b22f846c82c51f6e3958ccd81970162bae8b007e80...              13   \n",
       "000041bdba6ecadd89a52d11886e8eaaec9325906c97233...              13   \n",
       "00007889e4fcd2614b6cbe7f8f3d2e5c728eca32d9eb8ad...              13   \n",
       "\n",
       "                                                    D_105null_count  \\\n",
       "customer_ID                                                           \n",
       "0000099d6bd597052cdcda90ffabf56573fe9d7c79be5fb...               13   \n",
       "00000fd6641609c6ece5454664794f0340ad84dddce9a26...               13   \n",
       "00001b22f846c82c51f6e3958ccd81970162bae8b007e80...               13   \n",
       "000041bdba6ecadd89a52d11886e8eaaec9325906c97233...               13   \n",
       "00007889e4fcd2614b6cbe7f8f3d2e5c728eca32d9eb8ad...               13   \n",
       "\n",
       "                                                    D_110null_count  \\\n",
       "customer_ID                                                           \n",
       "0000099d6bd597052cdcda90ffabf56573fe9d7c79be5fb...               13   \n",
       "00000fd6641609c6ece5454664794f0340ad84dddce9a26...               13   \n",
       "00001b22f846c82c51f6e3958ccd81970162bae8b007e80...               13   \n",
       "000041bdba6ecadd89a52d11886e8eaaec9325906c97233...               13   \n",
       "00007889e4fcd2614b6cbe7f8f3d2e5c728eca32d9eb8ad...               13   \n",
       "\n",
       "                                                    B_39null_count  \\\n",
       "customer_ID                                                          \n",
       "0000099d6bd597052cdcda90ffabf56573fe9d7c79be5fb...              13   \n",
       "00000fd6641609c6ece5454664794f0340ad84dddce9a26...              13   \n",
       "00001b22f846c82c51f6e3958ccd81970162bae8b007e80...              13   \n",
       "000041bdba6ecadd89a52d11886e8eaaec9325906c97233...              13   \n",
       "00007889e4fcd2614b6cbe7f8f3d2e5c728eca32d9eb8ad...              13   \n",
       "\n",
       "                                                    B_42null_count  \\\n",
       "customer_ID                                                          \n",
       "0000099d6bd597052cdcda90ffabf56573fe9d7c79be5fb...              13   \n",
       "00000fd6641609c6ece5454664794f0340ad84dddce9a26...              13   \n",
       "00001b22f846c82c51f6e3958ccd81970162bae8b007e80...              13   \n",
       "000041bdba6ecadd89a52d11886e8eaaec9325906c97233...              13   \n",
       "00007889e4fcd2614b6cbe7f8f3d2e5c728eca32d9eb8ad...              13   \n",
       "\n",
       "                                                    D_132null_count  \\\n",
       "customer_ID                                                           \n",
       "0000099d6bd597052cdcda90ffabf56573fe9d7c79be5fb...               13   \n",
       "00000fd6641609c6ece5454664794f0340ad84dddce9a26...               13   \n",
       "00001b22f846c82c51f6e3958ccd81970162bae8b007e80...               13   \n",
       "000041bdba6ecadd89a52d11886e8eaaec9325906c97233...               13   \n",
       "00007889e4fcd2614b6cbe7f8f3d2e5c728eca32d9eb8ad...               13   \n",
       "\n",
       "                                                    D_134null_count  \\\n",
       "customer_ID                                                           \n",
       "0000099d6bd597052cdcda90ffabf56573fe9d7c79be5fb...               13   \n",
       "00000fd6641609c6ece5454664794f0340ad84dddce9a26...               13   \n",
       "00001b22f846c82c51f6e3958ccd81970162bae8b007e80...               13   \n",
       "000041bdba6ecadd89a52d11886e8eaaec9325906c97233...               13   \n",
       "00007889e4fcd2614b6cbe7f8f3d2e5c728eca32d9eb8ad...               13   \n",
       "\n",
       "                                                    D_142null_count  \\\n",
       "customer_ID                                                           \n",
       "0000099d6bd597052cdcda90ffabf56573fe9d7c79be5fb...               13   \n",
       "00000fd6641609c6ece5454664794f0340ad84dddce9a26...               13   \n",
       "00001b22f846c82c51f6e3958ccd81970162bae8b007e80...               13   \n",
       "000041bdba6ecadd89a52d11886e8eaaec9325906c97233...               13   \n",
       "00007889e4fcd2614b6cbe7f8f3d2e5c728eca32d9eb8ad...               13   \n",
       "\n",
       "                                                    nstatements  target  \n",
       "customer_ID                                                              \n",
       "0000099d6bd597052cdcda90ffabf56573fe9d7c79be5fb...           13       0  \n",
       "00000fd6641609c6ece5454664794f0340ad84dddce9a26...           13       0  \n",
       "00001b22f846c82c51f6e3958ccd81970162bae8b007e80...           13       0  \n",
       "000041bdba6ecadd89a52d11886e8eaaec9325906c97233...           13       0  \n",
       "00007889e4fcd2614b6cbe7f8f3d2e5c728eca32d9eb8ad...           13       0  \n",
       "\n",
       "[5 rows x 1007 columns]"
      ]
     },
     "execution_count": 13,
     "metadata": {},
     "output_type": "execute_result"
    }
   ],
   "source": [
    "train.head()"
   ]
  },
  {
   "cell_type": "code",
   "execution_count": 14,
   "id": "9ca1bea0",
   "metadata": {
    "execution": {
     "iopub.execute_input": "2023-07-22T08:00:23.805527Z",
     "iopub.status.busy": "2023-07-22T08:00:23.804882Z",
     "iopub.status.idle": "2023-07-22T08:00:23.810287Z",
     "shell.execute_reply": "2023-07-22T08:00:23.809250Z"
    },
    "papermill": {
     "duration": 0.026065,
     "end_time": "2023-07-22T08:00:23.812611",
     "exception": false,
     "start_time": "2023-07-22T08:00:23.786546",
     "status": "completed"
    },
    "tags": []
   },
   "outputs": [
    {
     "data": {
      "text/plain": [
       "1006"
      ]
     },
     "execution_count": 14,
     "metadata": {},
     "output_type": "execute_result"
    }
   ],
   "source": [
    "len(all_cols)"
   ]
  },
  {
   "cell_type": "code",
   "execution_count": null,
   "id": "ca7083d2",
   "metadata": {
    "papermill": {
     "duration": 0.017325,
     "end_time": "2023-07-22T08:00:23.845738",
     "exception": false,
     "start_time": "2023-07-22T08:00:23.828413",
     "status": "completed"
    },
    "tags": []
   },
   "outputs": [],
   "source": []
  },
  {
   "cell_type": "code",
   "execution_count": null,
   "id": "02e558e2",
   "metadata": {
    "papermill": {
     "duration": 0.016254,
     "end_time": "2023-07-22T08:00:23.879390",
     "exception": false,
     "start_time": "2023-07-22T08:00:23.863136",
     "status": "completed"
    },
    "tags": []
   },
   "outputs": [],
   "source": []
  },
  {
   "cell_type": "code",
   "execution_count": null,
   "id": "ee7c1aae",
   "metadata": {
    "papermill": {
     "duration": 0.017091,
     "end_time": "2023-07-22T08:00:23.912632",
     "exception": false,
     "start_time": "2023-07-22T08:00:23.895541",
     "status": "completed"
    },
    "tags": []
   },
   "outputs": [],
   "source": []
  },
  {
   "cell_type": "code",
   "execution_count": null,
   "id": "712fd51b",
   "metadata": {
    "papermill": {
     "duration": 0.016376,
     "end_time": "2023-07-22T08:00:23.944571",
     "exception": false,
     "start_time": "2023-07-22T08:00:23.928195",
     "status": "completed"
    },
    "tags": []
   },
   "outputs": [],
   "source": []
  },
  {
   "cell_type": "code",
   "execution_count": null,
   "id": "be551478",
   "metadata": {
    "papermill": {
     "duration": 0.01541,
     "end_time": "2023-07-22T08:00:23.976898",
     "exception": false,
     "start_time": "2023-07-22T08:00:23.961488",
     "status": "completed"
    },
    "tags": []
   },
   "outputs": [],
   "source": []
  },
  {
   "cell_type": "markdown",
   "id": "0d50b066",
   "metadata": {
    "papermill": {
     "duration": 0.015301,
     "end_time": "2023-07-22T08:00:24.007474",
     "exception": false,
     "start_time": "2023-07-22T08:00:23.992173",
     "status": "completed"
    },
    "tags": []
   },
   "source": [
    "#Preparing the data"
   ]
  },
  {
   "cell_type": "code",
   "execution_count": 15,
   "id": "21621298",
   "metadata": {
    "execution": {
     "iopub.execute_input": "2023-07-22T08:00:24.040387Z",
     "iopub.status.busy": "2023-07-22T08:00:24.040005Z",
     "iopub.status.idle": "2023-07-22T08:00:24.045150Z",
     "shell.execute_reply": "2023-07-22T08:00:24.043960Z"
    },
    "papermill": {
     "duration": 0.023898,
     "end_time": "2023-07-22T08:00:24.047655",
     "exception": false,
     "start_time": "2023-07-22T08:00:24.023757",
     "status": "completed"
    },
    "tags": []
   },
   "outputs": [],
   "source": [
    "#from sklearn.preprocessing import LabelEncoder\n",
    "#train['month'] = pd.DatetimeIndex(train['S_2']).month\n",
    "#test['month'] = pd.DatetimeIndex(test['S_2']).month"
   ]
  },
  {
   "cell_type": "code",
   "execution_count": 16,
   "id": "dad8668f",
   "metadata": {
    "execution": {
     "iopub.execute_input": "2023-07-22T08:00:24.081543Z",
     "iopub.status.busy": "2023-07-22T08:00:24.081188Z",
     "iopub.status.idle": "2023-07-22T08:00:24.086092Z",
     "shell.execute_reply": "2023-07-22T08:00:24.084567Z"
    },
    "papermill": {
     "duration": 0.024531,
     "end_time": "2023-07-22T08:00:24.088143",
     "exception": false,
     "start_time": "2023-07-22T08:00:24.063612",
     "status": "completed"
    },
    "tags": []
   },
   "outputs": [],
   "source": [
    "#train = pd.merge(train,train_label,how='left',on='customer_ID')"
   ]
  },
  {
   "cell_type": "code",
   "execution_count": 17,
   "id": "3f5b29a1",
   "metadata": {
    "execution": {
     "iopub.execute_input": "2023-07-22T08:00:24.122758Z",
     "iopub.status.busy": "2023-07-22T08:00:24.122023Z",
     "iopub.status.idle": "2023-07-22T08:00:24.126103Z",
     "shell.execute_reply": "2023-07-22T08:00:24.125422Z"
    },
    "papermill": {
     "duration": 0.02396,
     "end_time": "2023-07-22T08:00:24.127989",
     "exception": false,
     "start_time": "2023-07-22T08:00:24.104029",
     "status": "completed"
    },
    "tags": []
   },
   "outputs": [],
   "source": [
    "#train['target'].value_counts()"
   ]
  },
  {
   "cell_type": "code",
   "execution_count": 18,
   "id": "d5db2ba1",
   "metadata": {
    "execution": {
     "iopub.execute_input": "2023-07-22T08:00:24.165004Z",
     "iopub.status.busy": "2023-07-22T08:00:24.164312Z",
     "iopub.status.idle": "2023-07-22T08:00:24.168962Z",
     "shell.execute_reply": "2023-07-22T08:00:24.167923Z"
    },
    "papermill": {
     "duration": 0.025955,
     "end_time": "2023-07-22T08:00:24.171158",
     "exception": false,
     "start_time": "2023-07-22T08:00:24.145203",
     "status": "completed"
    },
    "tags": []
   },
   "outputs": [],
   "source": [
    "#columns_feature = train.columns.drop(['customer_ID','S_2','target']).values"
   ]
  },
  {
   "cell_type": "code",
   "execution_count": 19,
   "id": "dc48d5a6",
   "metadata": {
    "execution": {
     "iopub.execute_input": "2023-07-22T08:00:24.205166Z",
     "iopub.status.busy": "2023-07-22T08:00:24.204840Z",
     "iopub.status.idle": "2023-07-22T08:00:24.208309Z",
     "shell.execute_reply": "2023-07-22T08:00:24.207463Z"
    },
    "papermill": {
     "duration": 0.022891,
     "end_time": "2023-07-22T08:00:24.210167",
     "exception": false,
     "start_time": "2023-07-22T08:00:24.187276",
     "status": "completed"
    },
    "tags": []
   },
   "outputs": [],
   "source": [
    "#from sklearn.preprocessing import MinMaxScaler\n",
    "#scal = MinMaxScaler().fit(train[columns_feature])"
   ]
  },
  {
   "cell_type": "code",
   "execution_count": null,
   "id": "514c932b",
   "metadata": {
    "papermill": {
     "duration": 0.016098,
     "end_time": "2023-07-22T08:00:24.243093",
     "exception": false,
     "start_time": "2023-07-22T08:00:24.226995",
     "status": "completed"
    },
    "tags": []
   },
   "outputs": [],
   "source": []
  },
  {
   "cell_type": "code",
   "execution_count": null,
   "id": "0d7fdd31",
   "metadata": {
    "papermill": {
     "duration": 0.015963,
     "end_time": "2023-07-22T08:00:24.274611",
     "exception": false,
     "start_time": "2023-07-22T08:00:24.258648",
     "status": "completed"
    },
    "tags": []
   },
   "outputs": [],
   "source": []
  },
  {
   "cell_type": "code",
   "execution_count": 20,
   "id": "4e99e0ef",
   "metadata": {
    "execution": {
     "iopub.execute_input": "2023-07-22T08:00:24.312473Z",
     "iopub.status.busy": "2023-07-22T08:00:24.312068Z",
     "iopub.status.idle": "2023-07-22T08:03:09.793675Z",
     "shell.execute_reply": "2023-07-22T08:03:09.791493Z"
    },
    "papermill": {
     "duration": 165.505859,
     "end_time": "2023-07-22T08:03:09.797305",
     "exception": false,
     "start_time": "2023-07-22T08:00:24.291446",
     "status": "completed"
    },
    "tags": []
   },
   "outputs": [],
   "source": [
    "import lightgbm as lgm\n",
    "model_select = lgm.LGBMClassifier()\n",
    "model_select.fit(train[all_cols],train['target'])\n",
    "import_cols = model_select.booster_.feature_importance()"
   ]
  },
  {
   "cell_type": "code",
   "execution_count": 21,
   "id": "2383ee88",
   "metadata": {
    "execution": {
     "iopub.execute_input": "2023-07-22T08:03:09.835033Z",
     "iopub.status.busy": "2023-07-22T08:03:09.834513Z",
     "iopub.status.idle": "2023-07-22T08:03:10.188990Z",
     "shell.execute_reply": "2023-07-22T08:03:10.187207Z"
    },
    "papermill": {
     "duration": 0.376124,
     "end_time": "2023-07-22T08:03:10.191949",
     "exception": false,
     "start_time": "2023-07-22T08:03:09.815825",
     "status": "completed"
    },
    "tags": []
   },
   "outputs": [],
   "source": [
    "feat_imp = pd.DataFrame({'col':train[all_cols].columns,'imp':import_cols})"
   ]
  },
  {
   "cell_type": "code",
   "execution_count": 22,
   "id": "f2495f87",
   "metadata": {
    "execution": {
     "iopub.execute_input": "2023-07-22T08:03:10.226358Z",
     "iopub.status.busy": "2023-07-22T08:03:10.225940Z",
     "iopub.status.idle": "2023-07-22T08:03:10.233873Z",
     "shell.execute_reply": "2023-07-22T08:03:10.232405Z"
    },
    "papermill": {
     "duration": 0.027778,
     "end_time": "2023-07-22T08:03:10.236496",
     "exception": false,
     "start_time": "2023-07-22T08:03:10.208718",
     "status": "completed"
    },
    "tags": []
   },
   "outputs": [],
   "source": [
    "feat_imp = feat_imp.sort_values(by=['imp'],ascending = False)"
   ]
  },
  {
   "cell_type": "code",
   "execution_count": 23,
   "id": "ce516821",
   "metadata": {
    "execution": {
     "iopub.execute_input": "2023-07-22T08:03:10.270184Z",
     "iopub.status.busy": "2023-07-22T08:03:10.269805Z",
     "iopub.status.idle": "2023-07-22T08:03:10.286193Z",
     "shell.execute_reply": "2023-07-22T08:03:10.284811Z"
    },
    "papermill": {
     "duration": 0.036942,
     "end_time": "2023-07-22T08:03:10.289569",
     "exception": false,
     "start_time": "2023-07-22T08:03:10.252627",
     "status": "completed"
    },
    "tags": []
   },
   "outputs": [
    {
     "data": {
      "text/html": [
       "<div>\n",
       "<style scoped>\n",
       "    .dataframe tbody tr th:only-of-type {\n",
       "        vertical-align: middle;\n",
       "    }\n",
       "\n",
       "    .dataframe tbody tr th {\n",
       "        vertical-align: top;\n",
       "    }\n",
       "\n",
       "    .dataframe thead th {\n",
       "        text-align: right;\n",
       "    }\n",
       "</style>\n",
       "<table border=\"1\" class=\"dataframe\">\n",
       "  <thead>\n",
       "    <tr style=\"text-align: right;\">\n",
       "      <th></th>\n",
       "      <th>col</th>\n",
       "      <th>imp</th>\n",
       "    </tr>\n",
       "  </thead>\n",
       "  <tbody>\n",
       "    <tr>\n",
       "      <th>5</th>\n",
       "      <td>P_2_last</td>\n",
       "      <td>164</td>\n",
       "    </tr>\n",
       "    <tr>\n",
       "      <th>11</th>\n",
       "      <td>D_39_last</td>\n",
       "      <td>92</td>\n",
       "    </tr>\n",
       "    <tr>\n",
       "      <th>47</th>\n",
       "      <td>B_3_last</td>\n",
       "      <td>75</td>\n",
       "    </tr>\n",
       "    <tr>\n",
       "      <th>71</th>\n",
       "      <td>B_4_last</td>\n",
       "      <td>70</td>\n",
       "    </tr>\n",
       "    <tr>\n",
       "      <th>89</th>\n",
       "      <td>D_46_last</td>\n",
       "      <td>52</td>\n",
       "    </tr>\n",
       "    <tr>\n",
       "      <th>...</th>\n",
       "      <td>...</td>\n",
       "      <td>...</td>\n",
       "    </tr>\n",
       "    <tr>\n",
       "      <th>494</th>\n",
       "      <td>D_83_std</td>\n",
       "      <td>0</td>\n",
       "    </tr>\n",
       "    <tr>\n",
       "      <th>492</th>\n",
       "      <td>D_83_first</td>\n",
       "      <td>0</td>\n",
       "    </tr>\n",
       "    <tr>\n",
       "      <th>491</th>\n",
       "      <td>R_13_last</td>\n",
       "      <td>0</td>\n",
       "    </tr>\n",
       "    <tr>\n",
       "      <th>490</th>\n",
       "      <td>R_13_max</td>\n",
       "      <td>0</td>\n",
       "    </tr>\n",
       "    <tr>\n",
       "      <th>1005</th>\n",
       "      <td>nstatements</td>\n",
       "      <td>0</td>\n",
       "    </tr>\n",
       "  </tbody>\n",
       "</table>\n",
       "<p>1006 rows × 2 columns</p>\n",
       "</div>"
      ],
      "text/plain": [
       "              col  imp\n",
       "5        P_2_last  164\n",
       "11      D_39_last   92\n",
       "47       B_3_last   75\n",
       "71       B_4_last   70\n",
       "89      D_46_last   52\n",
       "...           ...  ...\n",
       "494      D_83_std    0\n",
       "492    D_83_first    0\n",
       "491     R_13_last    0\n",
       "490      R_13_max    0\n",
       "1005  nstatements    0\n",
       "\n",
       "[1006 rows x 2 columns]"
      ]
     },
     "execution_count": 23,
     "metadata": {},
     "output_type": "execute_result"
    }
   ],
   "source": [
    "feat_imp"
   ]
  },
  {
   "cell_type": "code",
   "execution_count": 24,
   "id": "6b93700c",
   "metadata": {
    "execution": {
     "iopub.execute_input": "2023-07-22T08:03:10.328007Z",
     "iopub.status.busy": "2023-07-22T08:03:10.327564Z",
     "iopub.status.idle": "2023-07-22T08:03:10.332231Z",
     "shell.execute_reply": "2023-07-22T08:03:10.331182Z"
    },
    "papermill": {
     "duration": 0.025159,
     "end_time": "2023-07-22T08:03:10.333923",
     "exception": false,
     "start_time": "2023-07-22T08:03:10.308764",
     "status": "completed"
    },
    "tags": []
   },
   "outputs": [],
   "source": [
    "#all_cols = feat_imp['col'].values[:500]"
   ]
  },
  {
   "cell_type": "code",
   "execution_count": 25,
   "id": "78b49a52",
   "metadata": {
    "execution": {
     "iopub.execute_input": "2023-07-22T08:03:10.369136Z",
     "iopub.status.busy": "2023-07-22T08:03:10.368793Z",
     "iopub.status.idle": "2023-07-22T08:03:13.397235Z",
     "shell.execute_reply": "2023-07-22T08:03:13.395401Z"
    },
    "papermill": {
     "duration": 3.050569,
     "end_time": "2023-07-22T08:03:13.399949",
     "exception": false,
     "start_time": "2023-07-22T08:03:10.349380",
     "status": "completed"
    },
    "tags": []
   },
   "outputs": [],
   "source": [
    "from sklearn.model_selection import train_test_split\n",
    "train_data, valid_data, train_label, valid_label = train_test_split(train[all_cols],train['target'],test_size=0.2,random_state=27,stratify=train['target'])"
   ]
  },
  {
   "cell_type": "markdown",
   "id": "e7aefbd3",
   "metadata": {
    "papermill": {
     "duration": 0.022994,
     "end_time": "2023-07-22T08:03:13.441412",
     "exception": false,
     "start_time": "2023-07-22T08:03:13.418418",
     "status": "completed"
    },
    "tags": []
   },
   "source": [
    "# Train models"
   ]
  },
  {
   "cell_type": "markdown",
   "id": "79dadefe",
   "metadata": {
    "papermill": {
     "duration": 0.015535,
     "end_time": "2023-07-22T08:03:13.473250",
     "exception": false,
     "start_time": "2023-07-22T08:03:13.457715",
     "status": "completed"
    },
    "tags": []
   },
   "source": [
    "## Model Lightgbm"
   ]
  },
  {
   "cell_type": "code",
   "execution_count": 26,
   "id": "c11e0150",
   "metadata": {
    "execution": {
     "iopub.execute_input": "2023-07-22T08:03:13.512925Z",
     "iopub.status.busy": "2023-07-22T08:03:13.512561Z",
     "iopub.status.idle": "2023-07-22T08:05:24.902498Z",
     "shell.execute_reply": "2023-07-22T08:05:24.899643Z"
    },
    "papermill": {
     "duration": 131.427982,
     "end_time": "2023-07-22T08:05:24.920088",
     "exception": false,
     "start_time": "2023-07-22T08:03:13.492106",
     "status": "completed"
    },
    "tags": []
   },
   "outputs": [
    {
     "data": {
      "text/html": [
       "<style>#sk-container-id-1 {color: black;background-color: white;}#sk-container-id-1 pre{padding: 0;}#sk-container-id-1 div.sk-toggleable {background-color: white;}#sk-container-id-1 label.sk-toggleable__label {cursor: pointer;display: block;width: 100%;margin-bottom: 0;padding: 0.3em;box-sizing: border-box;text-align: center;}#sk-container-id-1 label.sk-toggleable__label-arrow:before {content: \"▸\";float: left;margin-right: 0.25em;color: #696969;}#sk-container-id-1 label.sk-toggleable__label-arrow:hover:before {color: black;}#sk-container-id-1 div.sk-estimator:hover label.sk-toggleable__label-arrow:before {color: black;}#sk-container-id-1 div.sk-toggleable__content {max-height: 0;max-width: 0;overflow: hidden;text-align: left;background-color: #f0f8ff;}#sk-container-id-1 div.sk-toggleable__content pre {margin: 0.2em;color: black;border-radius: 0.25em;background-color: #f0f8ff;}#sk-container-id-1 input.sk-toggleable__control:checked~div.sk-toggleable__content {max-height: 200px;max-width: 100%;overflow: auto;}#sk-container-id-1 input.sk-toggleable__control:checked~label.sk-toggleable__label-arrow:before {content: \"▾\";}#sk-container-id-1 div.sk-estimator input.sk-toggleable__control:checked~label.sk-toggleable__label {background-color: #d4ebff;}#sk-container-id-1 div.sk-label input.sk-toggleable__control:checked~label.sk-toggleable__label {background-color: #d4ebff;}#sk-container-id-1 input.sk-hidden--visually {border: 0;clip: rect(1px 1px 1px 1px);clip: rect(1px, 1px, 1px, 1px);height: 1px;margin: -1px;overflow: hidden;padding: 0;position: absolute;width: 1px;}#sk-container-id-1 div.sk-estimator {font-family: monospace;background-color: #f0f8ff;border: 1px dotted black;border-radius: 0.25em;box-sizing: border-box;margin-bottom: 0.5em;}#sk-container-id-1 div.sk-estimator:hover {background-color: #d4ebff;}#sk-container-id-1 div.sk-parallel-item::after {content: \"\";width: 100%;border-bottom: 1px solid gray;flex-grow: 1;}#sk-container-id-1 div.sk-label:hover label.sk-toggleable__label {background-color: #d4ebff;}#sk-container-id-1 div.sk-serial::before {content: \"\";position: absolute;border-left: 1px solid gray;box-sizing: border-box;top: 0;bottom: 0;left: 50%;z-index: 0;}#sk-container-id-1 div.sk-serial {display: flex;flex-direction: column;align-items: center;background-color: white;padding-right: 0.2em;padding-left: 0.2em;position: relative;}#sk-container-id-1 div.sk-item {position: relative;z-index: 1;}#sk-container-id-1 div.sk-parallel {display: flex;align-items: stretch;justify-content: center;background-color: white;position: relative;}#sk-container-id-1 div.sk-item::before, #sk-container-id-1 div.sk-parallel-item::before {content: \"\";position: absolute;border-left: 1px solid gray;box-sizing: border-box;top: 0;bottom: 0;left: 50%;z-index: -1;}#sk-container-id-1 div.sk-parallel-item {display: flex;flex-direction: column;z-index: 1;position: relative;background-color: white;}#sk-container-id-1 div.sk-parallel-item:first-child::after {align-self: flex-end;width: 50%;}#sk-container-id-1 div.sk-parallel-item:last-child::after {align-self: flex-start;width: 50%;}#sk-container-id-1 div.sk-parallel-item:only-child::after {width: 0;}#sk-container-id-1 div.sk-dashed-wrapped {border: 1px dashed gray;margin: 0 0.4em 0.5em 0.4em;box-sizing: border-box;padding-bottom: 0.4em;background-color: white;}#sk-container-id-1 div.sk-label label {font-family: monospace;font-weight: bold;display: inline-block;line-height: 1.2em;}#sk-container-id-1 div.sk-label-container {text-align: center;}#sk-container-id-1 div.sk-container {/* jupyter's `normalize.less` sets `[hidden] { display: none; }` but bootstrap.min.css set `[hidden] { display: none !important; }` so we also need the `!important` here to be able to override the default hidden behavior on the sphinx rendered scikit-learn.org. See: https://github.com/scikit-learn/scikit-learn/issues/21755 */display: inline-block !important;position: relative;}#sk-container-id-1 div.sk-text-repr-fallback {display: none;}</style><div id=\"sk-container-id-1\" class=\"sk-top-container\"><div class=\"sk-text-repr-fallback\"><pre>LGBMClassifier()</pre><b>In a Jupyter environment, please rerun this cell to show the HTML representation or trust the notebook. <br />On GitHub, the HTML representation is unable to render, please try loading this page with nbviewer.org.</b></div><div class=\"sk-container\" hidden><div class=\"sk-item\"><div class=\"sk-estimator sk-toggleable\"><input class=\"sk-toggleable__control sk-hidden--visually\" id=\"sk-estimator-id-1\" type=\"checkbox\" checked><label for=\"sk-estimator-id-1\" class=\"sk-toggleable__label sk-toggleable__label-arrow\">LGBMClassifier</label><div class=\"sk-toggleable__content\"><pre>LGBMClassifier()</pre></div></div></div></div></div>"
      ],
      "text/plain": [
       "LGBMClassifier()"
      ]
     },
     "execution_count": 26,
     "metadata": {},
     "output_type": "execute_result"
    }
   ],
   "source": [
    "import lightgbm as lgm\n",
    "model1 = lgm.LGBMClassifier()\n",
    "model1.fit(train_data, train_label)"
   ]
  },
  {
   "cell_type": "code",
   "execution_count": 27,
   "id": "2764cfc1",
   "metadata": {
    "execution": {
     "iopub.execute_input": "2023-07-22T08:05:24.957294Z",
     "iopub.status.busy": "2023-07-22T08:05:24.956794Z",
     "iopub.status.idle": "2023-07-22T08:05:25.769426Z",
     "shell.execute_reply": "2023-07-22T08:05:25.768402Z"
    },
    "papermill": {
     "duration": 0.833886,
     "end_time": "2023-07-22T08:05:25.771877",
     "exception": false,
     "start_time": "2023-07-22T08:05:24.937991",
     "status": "completed"
    },
    "tags": []
   },
   "outputs": [],
   "source": [
    "pred1 = model1.predict(valid_data)"
   ]
  },
  {
   "cell_type": "code",
   "execution_count": 28,
   "id": "0907e6ca",
   "metadata": {
    "execution": {
     "iopub.execute_input": "2023-07-22T08:05:25.808272Z",
     "iopub.status.busy": "2023-07-22T08:05:25.807919Z",
     "iopub.status.idle": "2023-07-22T08:05:25.889594Z",
     "shell.execute_reply": "2023-07-22T08:05:25.887631Z"
    },
    "papermill": {
     "duration": 0.102849,
     "end_time": "2023-07-22T08:05:25.892759",
     "exception": false,
     "start_time": "2023-07-22T08:05:25.789910",
     "status": "completed"
    },
    "tags": []
   },
   "outputs": [],
   "source": [
    "from sklearn.metrics import f1_score\n",
    "sco1 = f1_score(valid_label,pred1)"
   ]
  },
  {
   "cell_type": "code",
   "execution_count": 29,
   "id": "7384d2bf",
   "metadata": {
    "execution": {
     "iopub.execute_input": "2023-07-22T08:05:25.928059Z",
     "iopub.status.busy": "2023-07-22T08:05:25.927666Z",
     "iopub.status.idle": "2023-07-22T08:05:25.933319Z",
     "shell.execute_reply": "2023-07-22T08:05:25.931656Z"
    },
    "papermill": {
     "duration": 0.026805,
     "end_time": "2023-07-22T08:05:25.935663",
     "exception": false,
     "start_time": "2023-07-22T08:05:25.908858",
     "status": "completed"
    },
    "tags": []
   },
   "outputs": [
    {
     "name": "stdout",
     "output_type": "stream",
     "text": [
      "0.8078000250804664\n"
     ]
    }
   ],
   "source": [
    "print(sco1)"
   ]
  },
  {
   "cell_type": "code",
   "execution_count": 30,
   "id": "13c72e1a",
   "metadata": {
    "execution": {
     "iopub.execute_input": "2023-07-22T08:05:25.970801Z",
     "iopub.status.busy": "2023-07-22T08:05:25.970469Z",
     "iopub.status.idle": "2023-07-22T08:05:39.935141Z",
     "shell.execute_reply": "2023-07-22T08:05:39.933681Z"
    },
    "papermill": {
     "duration": 13.984774,
     "end_time": "2023-07-22T08:05:39.937545",
     "exception": false,
     "start_time": "2023-07-22T08:05:25.952771",
     "status": "completed"
    },
    "tags": []
   },
   "outputs": [
    {
     "name": "stderr",
     "output_type": "stream",
     "text": [
      "/tmp/ipykernel_21/4214335181.py:1: PerformanceWarning: DataFrame is highly fragmented.  This is usually the result of calling `frame.insert` many times, which has poor performance.  Consider joining all columns at once using pd.concat(axis=1) instead. To get a de-fragmented frame, use `newframe = frame.copy()`\n",
      "  test['prediction1'] = model1.predict(test.loc[:,all_cols])\n"
     ]
    }
   ],
   "source": [
    "test['prediction1'] = model1.predict(test.loc[:,all_cols])"
   ]
  },
  {
   "cell_type": "code",
   "execution_count": 31,
   "id": "603cf11d",
   "metadata": {
    "execution": {
     "iopub.execute_input": "2023-07-22T08:05:39.972159Z",
     "iopub.status.busy": "2023-07-22T08:05:39.971798Z",
     "iopub.status.idle": "2023-07-22T08:05:39.994983Z",
     "shell.execute_reply": "2023-07-22T08:05:39.993402Z"
    },
    "papermill": {
     "duration": 0.043383,
     "end_time": "2023-07-22T08:05:39.997270",
     "exception": false,
     "start_time": "2023-07-22T08:05:39.953887",
     "status": "completed"
    },
    "tags": []
   },
   "outputs": [
    {
     "data": {
      "text/html": [
       "<div>\n",
       "<style scoped>\n",
       "    .dataframe tbody tr th:only-of-type {\n",
       "        vertical-align: middle;\n",
       "    }\n",
       "\n",
       "    .dataframe tbody tr th {\n",
       "        vertical-align: top;\n",
       "    }\n",
       "\n",
       "    .dataframe thead th {\n",
       "        text-align: right;\n",
       "    }\n",
       "</style>\n",
       "<table border=\"1\" class=\"dataframe\">\n",
       "  <thead>\n",
       "    <tr style=\"text-align: right;\">\n",
       "      <th></th>\n",
       "      <th>P_2_first</th>\n",
       "      <th>P_2_mean</th>\n",
       "      <th>P_2_std</th>\n",
       "      <th>P_2_min</th>\n",
       "      <th>P_2_max</th>\n",
       "      <th>P_2_last</th>\n",
       "      <th>D_39_first</th>\n",
       "      <th>D_39_mean</th>\n",
       "      <th>D_39_std</th>\n",
       "      <th>D_39_min</th>\n",
       "      <th>...</th>\n",
       "      <th>D_88null_count</th>\n",
       "      <th>D_105null_count</th>\n",
       "      <th>D_110null_count</th>\n",
       "      <th>B_39null_count</th>\n",
       "      <th>B_42null_count</th>\n",
       "      <th>D_132null_count</th>\n",
       "      <th>D_134null_count</th>\n",
       "      <th>D_142null_count</th>\n",
       "      <th>nstatements</th>\n",
       "      <th>prediction1</th>\n",
       "    </tr>\n",
       "    <tr>\n",
       "      <th>customer_ID</th>\n",
       "      <th></th>\n",
       "      <th></th>\n",
       "      <th></th>\n",
       "      <th></th>\n",
       "      <th></th>\n",
       "      <th></th>\n",
       "      <th></th>\n",
       "      <th></th>\n",
       "      <th></th>\n",
       "      <th></th>\n",
       "      <th></th>\n",
       "      <th></th>\n",
       "      <th></th>\n",
       "      <th></th>\n",
       "      <th></th>\n",
       "      <th></th>\n",
       "      <th></th>\n",
       "      <th></th>\n",
       "      <th></th>\n",
       "      <th></th>\n",
       "      <th></th>\n",
       "    </tr>\n",
       "  </thead>\n",
       "  <tbody>\n",
       "    <tr>\n",
       "      <th>00000469ba478561f23a92a868bd366de6f6527a684c9a2e78fb826dcac3b9b7</th>\n",
       "      <td>0.631315</td>\n",
       "      <td>0.601387</td>\n",
       "      <td>0.020190</td>\n",
       "      <td>0.568930</td>\n",
       "      <td>0.631315</td>\n",
       "      <td>0.568930</td>\n",
       "      <td>0</td>\n",
       "      <td>2.222222</td>\n",
       "      <td>3.527668</td>\n",
       "      <td>0</td>\n",
       "      <td>...</td>\n",
       "      <td>9</td>\n",
       "      <td>9</td>\n",
       "      <td>9</td>\n",
       "      <td>9</td>\n",
       "      <td>9</td>\n",
       "      <td>9</td>\n",
       "      <td>9</td>\n",
       "      <td>9</td>\n",
       "      <td>9</td>\n",
       "      <td>0</td>\n",
       "    </tr>\n",
       "    <tr>\n",
       "      <th>00001bf2e77ff879fab36aa4fac689b9ba411dae63ae397d4263dafa1daedef5</th>\n",
       "      <td>0.894195</td>\n",
       "      <td>0.862166</td>\n",
       "      <td>0.031436</td>\n",
       "      <td>0.794469</td>\n",
       "      <td>0.913501</td>\n",
       "      <td>0.841177</td>\n",
       "      <td>11</td>\n",
       "      <td>5.076923</td>\n",
       "      <td>6.034091</td>\n",
       "      <td>0</td>\n",
       "      <td>...</td>\n",
       "      <td>13</td>\n",
       "      <td>13</td>\n",
       "      <td>13</td>\n",
       "      <td>13</td>\n",
       "      <td>13</td>\n",
       "      <td>13</td>\n",
       "      <td>13</td>\n",
       "      <td>13</td>\n",
       "      <td>13</td>\n",
       "      <td>0</td>\n",
       "    </tr>\n",
       "    <tr>\n",
       "      <th>0000210045da4f81e5f122c6bde5c2a617d03eef67f82c5e400fc98e7bd43ce8</th>\n",
       "      <td>0.774276</td>\n",
       "      <td>0.748955</td>\n",
       "      <td>0.061456</td>\n",
       "      <td>0.673112</td>\n",
       "      <td>0.835114</td>\n",
       "      <td>0.697522</td>\n",
       "      <td>19</td>\n",
       "      <td>6.000000</td>\n",
       "      <td>9.000000</td>\n",
       "      <td>0</td>\n",
       "      <td>...</td>\n",
       "      <td>13</td>\n",
       "      <td>13</td>\n",
       "      <td>13</td>\n",
       "      <td>13</td>\n",
       "      <td>13</td>\n",
       "      <td>13</td>\n",
       "      <td>13</td>\n",
       "      <td>13</td>\n",
       "      <td>13</td>\n",
       "      <td>0</td>\n",
       "    </tr>\n",
       "    <tr>\n",
       "      <th>00003b41e58ede33b8daf61ab56d9952f17c9ad1c3976cf6e56734528702d694</th>\n",
       "      <td>0.514222</td>\n",
       "      <td>0.474728</td>\n",
       "      <td>0.028856</td>\n",
       "      <td>0.428457</td>\n",
       "      <td>0.514222</td>\n",
       "      <td>0.513186</td>\n",
       "      <td>14</td>\n",
       "      <td>15.846154</td>\n",
       "      <td>4.355957</td>\n",
       "      <td>7</td>\n",
       "      <td>...</td>\n",
       "      <td>13</td>\n",
       "      <td>13</td>\n",
       "      <td>13</td>\n",
       "      <td>13</td>\n",
       "      <td>13</td>\n",
       "      <td>13</td>\n",
       "      <td>13</td>\n",
       "      <td>13</td>\n",
       "      <td>13</td>\n",
       "      <td>0</td>\n",
       "    </tr>\n",
       "    <tr>\n",
       "      <th>00004b22eaeeeb0ec976890c1d9bfc14fd9427e98c4ee9a4693dd914fca22557</th>\n",
       "      <td>0.286302</td>\n",
       "      <td>0.324100</td>\n",
       "      <td>0.049865</td>\n",
       "      <td>0.254478</td>\n",
       "      <td>0.425764</td>\n",
       "      <td>0.254478</td>\n",
       "      <td>6</td>\n",
       "      <td>11.846154</td>\n",
       "      <td>6.681394</td>\n",
       "      <td>1</td>\n",
       "      <td>...</td>\n",
       "      <td>13</td>\n",
       "      <td>13</td>\n",
       "      <td>13</td>\n",
       "      <td>13</td>\n",
       "      <td>13</td>\n",
       "      <td>13</td>\n",
       "      <td>13</td>\n",
       "      <td>13</td>\n",
       "      <td>13</td>\n",
       "      <td>1</td>\n",
       "    </tr>\n",
       "  </tbody>\n",
       "</table>\n",
       "<p>5 rows × 1018 columns</p>\n",
       "</div>"
      ],
      "text/plain": [
       "                                                    P_2_first  P_2_mean  \\\n",
       "customer_ID                                                               \n",
       "00000469ba478561f23a92a868bd366de6f6527a684c9a2...   0.631315  0.601387   \n",
       "00001bf2e77ff879fab36aa4fac689b9ba411dae63ae397...   0.894195  0.862166   \n",
       "0000210045da4f81e5f122c6bde5c2a617d03eef67f82c5...   0.774276  0.748955   \n",
       "00003b41e58ede33b8daf61ab56d9952f17c9ad1c3976cf...   0.514222  0.474728   \n",
       "00004b22eaeeeb0ec976890c1d9bfc14fd9427e98c4ee9a...   0.286302  0.324100   \n",
       "\n",
       "                                                     P_2_std   P_2_min  \\\n",
       "customer_ID                                                              \n",
       "00000469ba478561f23a92a868bd366de6f6527a684c9a2...  0.020190  0.568930   \n",
       "00001bf2e77ff879fab36aa4fac689b9ba411dae63ae397...  0.031436  0.794469   \n",
       "0000210045da4f81e5f122c6bde5c2a617d03eef67f82c5...  0.061456  0.673112   \n",
       "00003b41e58ede33b8daf61ab56d9952f17c9ad1c3976cf...  0.028856  0.428457   \n",
       "00004b22eaeeeb0ec976890c1d9bfc14fd9427e98c4ee9a...  0.049865  0.254478   \n",
       "\n",
       "                                                     P_2_max  P_2_last  \\\n",
       "customer_ID                                                              \n",
       "00000469ba478561f23a92a868bd366de6f6527a684c9a2...  0.631315  0.568930   \n",
       "00001bf2e77ff879fab36aa4fac689b9ba411dae63ae397...  0.913501  0.841177   \n",
       "0000210045da4f81e5f122c6bde5c2a617d03eef67f82c5...  0.835114  0.697522   \n",
       "00003b41e58ede33b8daf61ab56d9952f17c9ad1c3976cf...  0.514222  0.513186   \n",
       "00004b22eaeeeb0ec976890c1d9bfc14fd9427e98c4ee9a...  0.425764  0.254478   \n",
       "\n",
       "                                                    D_39_first  D_39_mean  \\\n",
       "customer_ID                                                                 \n",
       "00000469ba478561f23a92a868bd366de6f6527a684c9a2...           0   2.222222   \n",
       "00001bf2e77ff879fab36aa4fac689b9ba411dae63ae397...          11   5.076923   \n",
       "0000210045da4f81e5f122c6bde5c2a617d03eef67f82c5...          19   6.000000   \n",
       "00003b41e58ede33b8daf61ab56d9952f17c9ad1c3976cf...          14  15.846154   \n",
       "00004b22eaeeeb0ec976890c1d9bfc14fd9427e98c4ee9a...           6  11.846154   \n",
       "\n",
       "                                                    D_39_std  D_39_min  ...  \\\n",
       "customer_ID                                                             ...   \n",
       "00000469ba478561f23a92a868bd366de6f6527a684c9a2...  3.527668         0  ...   \n",
       "00001bf2e77ff879fab36aa4fac689b9ba411dae63ae397...  6.034091         0  ...   \n",
       "0000210045da4f81e5f122c6bde5c2a617d03eef67f82c5...  9.000000         0  ...   \n",
       "00003b41e58ede33b8daf61ab56d9952f17c9ad1c3976cf...  4.355957         7  ...   \n",
       "00004b22eaeeeb0ec976890c1d9bfc14fd9427e98c4ee9a...  6.681394         1  ...   \n",
       "\n",
       "                                                    D_88null_count  \\\n",
       "customer_ID                                                          \n",
       "00000469ba478561f23a92a868bd366de6f6527a684c9a2...               9   \n",
       "00001bf2e77ff879fab36aa4fac689b9ba411dae63ae397...              13   \n",
       "0000210045da4f81e5f122c6bde5c2a617d03eef67f82c5...              13   \n",
       "00003b41e58ede33b8daf61ab56d9952f17c9ad1c3976cf...              13   \n",
       "00004b22eaeeeb0ec976890c1d9bfc14fd9427e98c4ee9a...              13   \n",
       "\n",
       "                                                    D_105null_count  \\\n",
       "customer_ID                                                           \n",
       "00000469ba478561f23a92a868bd366de6f6527a684c9a2...                9   \n",
       "00001bf2e77ff879fab36aa4fac689b9ba411dae63ae397...               13   \n",
       "0000210045da4f81e5f122c6bde5c2a617d03eef67f82c5...               13   \n",
       "00003b41e58ede33b8daf61ab56d9952f17c9ad1c3976cf...               13   \n",
       "00004b22eaeeeb0ec976890c1d9bfc14fd9427e98c4ee9a...               13   \n",
       "\n",
       "                                                    D_110null_count  \\\n",
       "customer_ID                                                           \n",
       "00000469ba478561f23a92a868bd366de6f6527a684c9a2...                9   \n",
       "00001bf2e77ff879fab36aa4fac689b9ba411dae63ae397...               13   \n",
       "0000210045da4f81e5f122c6bde5c2a617d03eef67f82c5...               13   \n",
       "00003b41e58ede33b8daf61ab56d9952f17c9ad1c3976cf...               13   \n",
       "00004b22eaeeeb0ec976890c1d9bfc14fd9427e98c4ee9a...               13   \n",
       "\n",
       "                                                    B_39null_count  \\\n",
       "customer_ID                                                          \n",
       "00000469ba478561f23a92a868bd366de6f6527a684c9a2...               9   \n",
       "00001bf2e77ff879fab36aa4fac689b9ba411dae63ae397...              13   \n",
       "0000210045da4f81e5f122c6bde5c2a617d03eef67f82c5...              13   \n",
       "00003b41e58ede33b8daf61ab56d9952f17c9ad1c3976cf...              13   \n",
       "00004b22eaeeeb0ec976890c1d9bfc14fd9427e98c4ee9a...              13   \n",
       "\n",
       "                                                    B_42null_count  \\\n",
       "customer_ID                                                          \n",
       "00000469ba478561f23a92a868bd366de6f6527a684c9a2...               9   \n",
       "00001bf2e77ff879fab36aa4fac689b9ba411dae63ae397...              13   \n",
       "0000210045da4f81e5f122c6bde5c2a617d03eef67f82c5...              13   \n",
       "00003b41e58ede33b8daf61ab56d9952f17c9ad1c3976cf...              13   \n",
       "00004b22eaeeeb0ec976890c1d9bfc14fd9427e98c4ee9a...              13   \n",
       "\n",
       "                                                    D_132null_count  \\\n",
       "customer_ID                                                           \n",
       "00000469ba478561f23a92a868bd366de6f6527a684c9a2...                9   \n",
       "00001bf2e77ff879fab36aa4fac689b9ba411dae63ae397...               13   \n",
       "0000210045da4f81e5f122c6bde5c2a617d03eef67f82c5...               13   \n",
       "00003b41e58ede33b8daf61ab56d9952f17c9ad1c3976cf...               13   \n",
       "00004b22eaeeeb0ec976890c1d9bfc14fd9427e98c4ee9a...               13   \n",
       "\n",
       "                                                    D_134null_count  \\\n",
       "customer_ID                                                           \n",
       "00000469ba478561f23a92a868bd366de6f6527a684c9a2...                9   \n",
       "00001bf2e77ff879fab36aa4fac689b9ba411dae63ae397...               13   \n",
       "0000210045da4f81e5f122c6bde5c2a617d03eef67f82c5...               13   \n",
       "00003b41e58ede33b8daf61ab56d9952f17c9ad1c3976cf...               13   \n",
       "00004b22eaeeeb0ec976890c1d9bfc14fd9427e98c4ee9a...               13   \n",
       "\n",
       "                                                    D_142null_count  \\\n",
       "customer_ID                                                           \n",
       "00000469ba478561f23a92a868bd366de6f6527a684c9a2...                9   \n",
       "00001bf2e77ff879fab36aa4fac689b9ba411dae63ae397...               13   \n",
       "0000210045da4f81e5f122c6bde5c2a617d03eef67f82c5...               13   \n",
       "00003b41e58ede33b8daf61ab56d9952f17c9ad1c3976cf...               13   \n",
       "00004b22eaeeeb0ec976890c1d9bfc14fd9427e98c4ee9a...               13   \n",
       "\n",
       "                                                    nstatements  prediction1  \n",
       "customer_ID                                                                   \n",
       "00000469ba478561f23a92a868bd366de6f6527a684c9a2...            9            0  \n",
       "00001bf2e77ff879fab36aa4fac689b9ba411dae63ae397...           13            0  \n",
       "0000210045da4f81e5f122c6bde5c2a617d03eef67f82c5...           13            0  \n",
       "00003b41e58ede33b8daf61ab56d9952f17c9ad1c3976cf...           13            0  \n",
       "00004b22eaeeeb0ec976890c1d9bfc14fd9427e98c4ee9a...           13            1  \n",
       "\n",
       "[5 rows x 1018 columns]"
      ]
     },
     "execution_count": 31,
     "metadata": {},
     "output_type": "execute_result"
    }
   ],
   "source": [
    "test.head()"
   ]
  },
  {
   "cell_type": "markdown",
   "id": "9f43ed1c",
   "metadata": {
    "papermill": {
     "duration": 0.019599,
     "end_time": "2023-07-22T08:05:40.036320",
     "exception": false,
     "start_time": "2023-07-22T08:05:40.016721",
     "status": "completed"
    },
    "tags": []
   },
   "source": [
    "## Model XGBoost"
   ]
  },
  {
   "cell_type": "code",
   "execution_count": 32,
   "id": "b1666e3a",
   "metadata": {
    "execution": {
     "iopub.execute_input": "2023-07-22T08:05:40.072530Z",
     "iopub.status.busy": "2023-07-22T08:05:40.072167Z",
     "iopub.status.idle": "2023-07-22T08:05:40.299342Z",
     "shell.execute_reply": "2023-07-22T08:05:40.297786Z"
    },
    "papermill": {
     "duration": 0.247931,
     "end_time": "2023-07-22T08:05:40.301593",
     "exception": false,
     "start_time": "2023-07-22T08:05:40.053662",
     "status": "completed"
    },
    "tags": []
   },
   "outputs": [],
   "source": [
    "from xgboost import XGBClassifier"
   ]
  },
  {
   "cell_type": "code",
   "execution_count": 33,
   "id": "37c8e4cf",
   "metadata": {
    "execution": {
     "iopub.execute_input": "2023-07-22T08:05:40.340724Z",
     "iopub.status.busy": "2023-07-22T08:05:40.340358Z",
     "iopub.status.idle": "2023-07-22T09:48:28.507709Z",
     "shell.execute_reply": "2023-07-22T09:48:28.504761Z"
    },
    "papermill": {
     "duration": 6168.192441,
     "end_time": "2023-07-22T09:48:28.512057",
     "exception": false,
     "start_time": "2023-07-22T08:05:40.319616",
     "status": "completed"
    },
    "tags": []
   },
   "outputs": [],
   "source": [
    "model2 = XGBClassifier().fit(train_data, train_label)"
   ]
  },
  {
   "cell_type": "code",
   "execution_count": 34,
   "id": "f01aa992",
   "metadata": {
    "execution": {
     "iopub.execute_input": "2023-07-22T09:48:28.555793Z",
     "iopub.status.busy": "2023-07-22T09:48:28.555285Z",
     "iopub.status.idle": "2023-07-22T09:48:30.487308Z",
     "shell.execute_reply": "2023-07-22T09:48:30.485785Z"
    },
    "papermill": {
     "duration": 1.956405,
     "end_time": "2023-07-22T09:48:30.490104",
     "exception": false,
     "start_time": "2023-07-22T09:48:28.533699",
     "status": "completed"
    },
    "tags": []
   },
   "outputs": [],
   "source": [
    "pred2 = model2.predict(valid_data)"
   ]
  },
  {
   "cell_type": "code",
   "execution_count": 35,
   "id": "0c2ce80f",
   "metadata": {
    "execution": {
     "iopub.execute_input": "2023-07-22T09:48:30.527733Z",
     "iopub.status.busy": "2023-07-22T09:48:30.527356Z",
     "iopub.status.idle": "2023-07-22T09:48:30.567645Z",
     "shell.execute_reply": "2023-07-22T09:48:30.566294Z"
    },
    "papermill": {
     "duration": 0.06214,
     "end_time": "2023-07-22T09:48:30.570325",
     "exception": false,
     "start_time": "2023-07-22T09:48:30.508185",
     "status": "completed"
    },
    "tags": []
   },
   "outputs": [],
   "source": [
    "from sklearn.metrics import f1_score\n",
    "sco2 = f1_score(valid_label,pred2)"
   ]
  },
  {
   "cell_type": "code",
   "execution_count": 36,
   "id": "edcd4210",
   "metadata": {
    "execution": {
     "iopub.execute_input": "2023-07-22T09:48:30.606312Z",
     "iopub.status.busy": "2023-07-22T09:48:30.605771Z",
     "iopub.status.idle": "2023-07-22T09:48:30.611964Z",
     "shell.execute_reply": "2023-07-22T09:48:30.610542Z"
    },
    "papermill": {
     "duration": 0.027131,
     "end_time": "2023-07-22T09:48:30.614751",
     "exception": false,
     "start_time": "2023-07-22T09:48:30.587620",
     "status": "completed"
    },
    "tags": []
   },
   "outputs": [
    {
     "name": "stdout",
     "output_type": "stream",
     "text": [
      "0.8049057556378324\n"
     ]
    }
   ],
   "source": [
    "print(sco2)"
   ]
  },
  {
   "cell_type": "code",
   "execution_count": 37,
   "id": "6816e7d9",
   "metadata": {
    "execution": {
     "iopub.execute_input": "2023-07-22T09:48:30.654055Z",
     "iopub.status.busy": "2023-07-22T09:48:30.653671Z",
     "iopub.status.idle": "2023-07-22T09:49:05.706702Z",
     "shell.execute_reply": "2023-07-22T09:49:05.705045Z"
    },
    "papermill": {
     "duration": 35.097428,
     "end_time": "2023-07-22T09:49:05.729011",
     "exception": false,
     "start_time": "2023-07-22T09:48:30.631583",
     "status": "completed"
    },
    "tags": []
   },
   "outputs": [
    {
     "name": "stderr",
     "output_type": "stream",
     "text": [
      "/tmp/ipykernel_21/3369942069.py:1: PerformanceWarning: DataFrame is highly fragmented.  This is usually the result of calling `frame.insert` many times, which has poor performance.  Consider joining all columns at once using pd.concat(axis=1) instead. To get a de-fragmented frame, use `newframe = frame.copy()`\n",
      "  test['prediction2'] = model2.predict(test.loc[:,all_cols])\n"
     ]
    }
   ],
   "source": [
    "test['prediction2'] = model2.predict(test.loc[:,all_cols])"
   ]
  },
  {
   "cell_type": "markdown",
   "id": "9b950004",
   "metadata": {
    "papermill": {
     "duration": 0.016738,
     "end_time": "2023-07-22T09:49:05.762731",
     "exception": false,
     "start_time": "2023-07-22T09:49:05.745993",
     "status": "completed"
    },
    "tags": []
   },
   "source": [
    "## Model DNN"
   ]
  },
  {
   "cell_type": "code",
   "execution_count": 38,
   "id": "3a26b60d",
   "metadata": {
    "execution": {
     "iopub.execute_input": "2023-07-22T09:49:05.801748Z",
     "iopub.status.busy": "2023-07-22T09:49:05.801341Z",
     "iopub.status.idle": "2023-07-22T09:49:17.359542Z",
     "shell.execute_reply": "2023-07-22T09:49:17.357814Z"
    },
    "papermill": {
     "duration": 11.581646,
     "end_time": "2023-07-22T09:49:17.362119",
     "exception": false,
     "start_time": "2023-07-22T09:49:05.780473",
     "status": "completed"
    },
    "tags": []
   },
   "outputs": [
    {
     "name": "stderr",
     "output_type": "stream",
     "text": [
      "/opt/conda/lib/python3.10/site-packages/tensorflow_io/python/ops/__init__.py:98: UserWarning: unable to load libtensorflow_io_plugins.so: unable to open file: libtensorflow_io_plugins.so, from paths: ['/opt/conda/lib/python3.10/site-packages/tensorflow_io/python/ops/libtensorflow_io_plugins.so']\n",
      "caused by: ['/opt/conda/lib/python3.10/site-packages/tensorflow_io/python/ops/libtensorflow_io_plugins.so: undefined symbol: _ZN3tsl6StatusC1EN10tensorflow5error4CodeESt17basic_string_viewIcSt11char_traitsIcEENS_14SourceLocationE']\n",
      "  warnings.warn(f\"unable to load libtensorflow_io_plugins.so: {e}\")\n",
      "/opt/conda/lib/python3.10/site-packages/tensorflow_io/python/ops/__init__.py:104: UserWarning: file system plugins are not loaded: unable to open file: libtensorflow_io.so, from paths: ['/opt/conda/lib/python3.10/site-packages/tensorflow_io/python/ops/libtensorflow_io.so']\n",
      "caused by: ['/opt/conda/lib/python3.10/site-packages/tensorflow_io/python/ops/libtensorflow_io.so: undefined symbol: _ZTVN10tensorflow13GcsFileSystemE']\n",
      "  warnings.warn(f\"file system plugins are not loaded: {e}\")\n"
     ]
    }
   ],
   "source": [
    "import tensorflow as tf\n",
    "from tensorflow import keras"
   ]
  },
  {
   "cell_type": "code",
   "execution_count": 39,
   "id": "7278c532",
   "metadata": {
    "execution": {
     "iopub.execute_input": "2023-07-22T09:49:17.401949Z",
     "iopub.status.busy": "2023-07-22T09:49:17.400561Z",
     "iopub.status.idle": "2023-07-22T09:49:17.407142Z",
     "shell.execute_reply": "2023-07-22T09:49:17.406414Z"
    },
    "papermill": {
     "duration": 0.028908,
     "end_time": "2023-07-22T09:49:17.409544",
     "exception": false,
     "start_time": "2023-07-22T09:49:17.380636",
     "status": "completed"
    },
    "tags": []
   },
   "outputs": [
    {
     "data": {
      "text/plain": [
       "(367130, 1006)"
      ]
     },
     "execution_count": 39,
     "metadata": {},
     "output_type": "execute_result"
    }
   ],
   "source": [
    "train_data.shape"
   ]
  },
  {
   "cell_type": "code",
   "execution_count": 40,
   "id": "8e3e1a07",
   "metadata": {
    "execution": {
     "iopub.execute_input": "2023-07-22T09:49:17.452091Z",
     "iopub.status.busy": "2023-07-22T09:49:17.451485Z",
     "iopub.status.idle": "2023-07-22T09:49:17.716835Z",
     "shell.execute_reply": "2023-07-22T09:49:17.715741Z"
    },
    "papermill": {
     "duration": 0.288845,
     "end_time": "2023-07-22T09:49:17.720265",
     "exception": false,
     "start_time": "2023-07-22T09:49:17.431420",
     "status": "completed"
    },
    "tags": []
   },
   "outputs": [],
   "source": [
    "model3 = keras.models.Sequential([\n",
    "    keras.layers.Flatten(input_shape=(1006,)),\n",
    "    keras.layers.Dense(16,activation = 'relu'),\n",
    "    keras.layers.Dense(16,activation = 'relu'),\n",
    "    keras.layers.Dense(1,activation = 'sigmoid')])"
   ]
  },
  {
   "cell_type": "code",
   "execution_count": 41,
   "id": "1730a780",
   "metadata": {
    "execution": {
     "iopub.execute_input": "2023-07-22T09:49:17.763614Z",
     "iopub.status.busy": "2023-07-22T09:49:17.763007Z",
     "iopub.status.idle": "2023-07-22T09:49:17.783039Z",
     "shell.execute_reply": "2023-07-22T09:49:17.781978Z"
    },
    "papermill": {
     "duration": 0.047342,
     "end_time": "2023-07-22T09:49:17.785584",
     "exception": false,
     "start_time": "2023-07-22T09:49:17.738242",
     "status": "completed"
    },
    "tags": []
   },
   "outputs": [],
   "source": [
    "model3.compile(optimizer='adam',loss='binary_crossentropy', metrics = 'accuracy')"
   ]
  },
  {
   "cell_type": "code",
   "execution_count": 42,
   "id": "a73b8354",
   "metadata": {
    "execution": {
     "iopub.execute_input": "2023-07-22T09:49:17.823861Z",
     "iopub.status.busy": "2023-07-22T09:49:17.823205Z",
     "iopub.status.idle": "2023-07-22T09:49:21.921654Z",
     "shell.execute_reply": "2023-07-22T09:49:21.920787Z"
    },
    "papermill": {
     "duration": 4.120924,
     "end_time": "2023-07-22T09:49:21.924078",
     "exception": false,
     "start_time": "2023-07-22T09:49:17.803154",
     "status": "completed"
    },
    "tags": []
   },
   "outputs": [],
   "source": [
    "train_data = train_data.fillna(0)\n",
    "valid_data = valid_data.fillna(0)\n",
    "train_label = train_label.fillna(0)\n",
    "valid_label = valid_label.fillna(0)\n",
    "test = test.fillna(0)"
   ]
  },
  {
   "cell_type": "code",
   "execution_count": 43,
   "id": "4f6dc669",
   "metadata": {
    "execution": {
     "iopub.execute_input": "2023-07-22T09:49:21.965150Z",
     "iopub.status.busy": "2023-07-22T09:49:21.963997Z",
     "iopub.status.idle": "2023-07-22T09:49:48.834508Z",
     "shell.execute_reply": "2023-07-22T09:49:48.832600Z"
    },
    "papermill": {
     "duration": 26.894517,
     "end_time": "2023-07-22T09:49:48.837373",
     "exception": false,
     "start_time": "2023-07-22T09:49:21.942856",
     "status": "completed"
    },
    "tags": []
   },
   "outputs": [
    {
     "name": "stdout",
     "output_type": "stream",
     "text": [
      "11473/11473 [==============================] - 19s 2ms/step - loss: 0.2981 - accuracy: 0.8802\n"
     ]
    },
    {
     "data": {
      "text/plain": [
       "<keras.callbacks.History at 0x7b6910652950>"
      ]
     },
     "execution_count": 43,
     "metadata": {},
     "output_type": "execute_result"
    }
   ],
   "source": [
    "model3.fit(train_data, train_label,epochs=1,batch_size = 32)"
   ]
  },
  {
   "cell_type": "code",
   "execution_count": 44,
   "id": "a020260e",
   "metadata": {
    "execution": {
     "iopub.execute_input": "2023-07-22T09:49:48.923162Z",
     "iopub.status.busy": "2023-07-22T09:49:48.922758Z",
     "iopub.status.idle": "2023-07-22T09:49:52.879987Z",
     "shell.execute_reply": "2023-07-22T09:49:52.878226Z"
    },
    "papermill": {
     "duration": 4.002464,
     "end_time": "2023-07-22T09:49:52.882907",
     "exception": false,
     "start_time": "2023-07-22T09:49:48.880443",
     "status": "completed"
    },
    "tags": []
   },
   "outputs": [
    {
     "name": "stdout",
     "output_type": "stream",
     "text": [
      "1435/1435 [==============================] - 2s 1ms/step\n"
     ]
    }
   ],
   "source": [
    "pred3 = model3.predict(valid_data,batch_size = 64, verbose = 1).round()"
   ]
  },
  {
   "cell_type": "code",
   "execution_count": 45,
   "id": "9ae4f58d",
   "metadata": {
    "execution": {
     "iopub.execute_input": "2023-07-22T09:49:52.970140Z",
     "iopub.status.busy": "2023-07-22T09:49:52.969720Z",
     "iopub.status.idle": "2023-07-22T09:49:52.975446Z",
     "shell.execute_reply": "2023-07-22T09:49:52.973852Z"
    },
    "papermill": {
     "duration": 0.05265,
     "end_time": "2023-07-22T09:49:52.977387",
     "exception": false,
     "start_time": "2023-07-22T09:49:52.924737",
     "status": "completed"
    },
    "tags": []
   },
   "outputs": [],
   "source": [
    "#pred3 = np.argmax(pred3,axis=1)"
   ]
  },
  {
   "cell_type": "code",
   "execution_count": 46,
   "id": "d762dbc6",
   "metadata": {
    "execution": {
     "iopub.execute_input": "2023-07-22T09:49:53.060668Z",
     "iopub.status.busy": "2023-07-22T09:49:53.060300Z",
     "iopub.status.idle": "2023-07-22T09:49:53.068612Z",
     "shell.execute_reply": "2023-07-22T09:49:53.067123Z"
    },
    "papermill": {
     "duration": 0.052373,
     "end_time": "2023-07-22T09:49:53.071127",
     "exception": false,
     "start_time": "2023-07-22T09:49:53.018754",
     "status": "completed"
    },
    "tags": []
   },
   "outputs": [
    {
     "name": "stdout",
     "output_type": "stream",
     "text": [
      "[[1.]\n",
      " [0.]\n",
      " [0.]\n",
      " ...\n",
      " [1.]\n",
      " [0.]\n",
      " [0.]]\n"
     ]
    }
   ],
   "source": [
    "print(pred3)"
   ]
  },
  {
   "cell_type": "code",
   "execution_count": 47,
   "id": "524cbce9",
   "metadata": {
    "execution": {
     "iopub.execute_input": "2023-07-22T09:49:53.156450Z",
     "iopub.status.busy": "2023-07-22T09:49:53.156037Z",
     "iopub.status.idle": "2023-07-22T09:49:53.354378Z",
     "shell.execute_reply": "2023-07-22T09:49:53.351595Z"
    },
    "papermill": {
     "duration": 0.246541,
     "end_time": "2023-07-22T09:49:53.357985",
     "exception": false,
     "start_time": "2023-07-22T09:49:53.111444",
     "status": "completed"
    },
    "tags": []
   },
   "outputs": [
    {
     "name": "stdout",
     "output_type": "stream",
     "text": [
      "              precision    recall  f1-score   support\n",
      "\n",
      "           0       0.95      0.88      0.92     68017\n",
      "           1       0.73      0.88      0.80     23766\n",
      "\n",
      "    accuracy                           0.88     91783\n",
      "   macro avg       0.84      0.88      0.86     91783\n",
      "weighted avg       0.90      0.88      0.89     91783\n",
      "\n"
     ]
    }
   ],
   "source": [
    "from sklearn.metrics import classification_report\n",
    "print(classification_report(valid_label,pred3))"
   ]
  },
  {
   "cell_type": "code",
   "execution_count": 48,
   "id": "14aabf53",
   "metadata": {
    "execution": {
     "iopub.execute_input": "2023-07-22T09:49:53.446751Z",
     "iopub.status.busy": "2023-07-22T09:49:53.446053Z",
     "iopub.status.idle": "2023-07-22T09:49:54.196224Z",
     "shell.execute_reply": "2023-07-22T09:49:54.195426Z"
    },
    "papermill": {
     "duration": 0.796557,
     "end_time": "2023-07-22T09:49:54.198582",
     "exception": false,
     "start_time": "2023-07-22T09:49:53.402025",
     "status": "completed"
    },
    "tags": []
   },
   "outputs": [],
   "source": [
    "test = test.reset_index()"
   ]
  },
  {
   "cell_type": "code",
   "execution_count": 49,
   "id": "53c28c6c",
   "metadata": {
    "execution": {
     "iopub.execute_input": "2023-07-22T09:49:54.285656Z",
     "iopub.status.busy": "2023-07-22T09:49:54.284991Z",
     "iopub.status.idle": "2023-07-22T09:49:54.306596Z",
     "shell.execute_reply": "2023-07-22T09:49:54.305810Z"
    },
    "papermill": {
     "duration": 0.068416,
     "end_time": "2023-07-22T09:49:54.308317",
     "exception": false,
     "start_time": "2023-07-22T09:49:54.239901",
     "status": "completed"
    },
    "tags": []
   },
   "outputs": [
    {
     "data": {
      "text/html": [
       "<div>\n",
       "<style scoped>\n",
       "    .dataframe tbody tr th:only-of-type {\n",
       "        vertical-align: middle;\n",
       "    }\n",
       "\n",
       "    .dataframe tbody tr th {\n",
       "        vertical-align: top;\n",
       "    }\n",
       "\n",
       "    .dataframe thead th {\n",
       "        text-align: right;\n",
       "    }\n",
       "</style>\n",
       "<table border=\"1\" class=\"dataframe\">\n",
       "  <thead>\n",
       "    <tr style=\"text-align: right;\">\n",
       "      <th></th>\n",
       "      <th>customer_ID</th>\n",
       "      <th>P_2_first</th>\n",
       "      <th>P_2_mean</th>\n",
       "      <th>P_2_std</th>\n",
       "      <th>P_2_min</th>\n",
       "      <th>P_2_max</th>\n",
       "      <th>P_2_last</th>\n",
       "      <th>D_39_first</th>\n",
       "      <th>D_39_mean</th>\n",
       "      <th>D_39_std</th>\n",
       "      <th>...</th>\n",
       "      <th>D_105null_count</th>\n",
       "      <th>D_110null_count</th>\n",
       "      <th>B_39null_count</th>\n",
       "      <th>B_42null_count</th>\n",
       "      <th>D_132null_count</th>\n",
       "      <th>D_134null_count</th>\n",
       "      <th>D_142null_count</th>\n",
       "      <th>nstatements</th>\n",
       "      <th>prediction1</th>\n",
       "      <th>prediction2</th>\n",
       "    </tr>\n",
       "  </thead>\n",
       "  <tbody>\n",
       "    <tr>\n",
       "      <th>0</th>\n",
       "      <td>00000469ba478561f23a92a868bd366de6f6527a684c9a...</td>\n",
       "      <td>0.631315</td>\n",
       "      <td>0.601387</td>\n",
       "      <td>0.020190</td>\n",
       "      <td>0.568930</td>\n",
       "      <td>0.631315</td>\n",
       "      <td>0.568930</td>\n",
       "      <td>0</td>\n",
       "      <td>2.222222</td>\n",
       "      <td>3.527668</td>\n",
       "      <td>...</td>\n",
       "      <td>9</td>\n",
       "      <td>9</td>\n",
       "      <td>9</td>\n",
       "      <td>9</td>\n",
       "      <td>9</td>\n",
       "      <td>9</td>\n",
       "      <td>9</td>\n",
       "      <td>9</td>\n",
       "      <td>0</td>\n",
       "      <td>0</td>\n",
       "    </tr>\n",
       "    <tr>\n",
       "      <th>1</th>\n",
       "      <td>00001bf2e77ff879fab36aa4fac689b9ba411dae63ae39...</td>\n",
       "      <td>0.894195</td>\n",
       "      <td>0.862166</td>\n",
       "      <td>0.031436</td>\n",
       "      <td>0.794469</td>\n",
       "      <td>0.913501</td>\n",
       "      <td>0.841177</td>\n",
       "      <td>11</td>\n",
       "      <td>5.076923</td>\n",
       "      <td>6.034091</td>\n",
       "      <td>...</td>\n",
       "      <td>13</td>\n",
       "      <td>13</td>\n",
       "      <td>13</td>\n",
       "      <td>13</td>\n",
       "      <td>13</td>\n",
       "      <td>13</td>\n",
       "      <td>13</td>\n",
       "      <td>13</td>\n",
       "      <td>0</td>\n",
       "      <td>0</td>\n",
       "    </tr>\n",
       "    <tr>\n",
       "      <th>2</th>\n",
       "      <td>0000210045da4f81e5f122c6bde5c2a617d03eef67f82c...</td>\n",
       "      <td>0.774276</td>\n",
       "      <td>0.748955</td>\n",
       "      <td>0.061456</td>\n",
       "      <td>0.673112</td>\n",
       "      <td>0.835114</td>\n",
       "      <td>0.697522</td>\n",
       "      <td>19</td>\n",
       "      <td>6.000000</td>\n",
       "      <td>9.000000</td>\n",
       "      <td>...</td>\n",
       "      <td>13</td>\n",
       "      <td>13</td>\n",
       "      <td>13</td>\n",
       "      <td>13</td>\n",
       "      <td>13</td>\n",
       "      <td>13</td>\n",
       "      <td>13</td>\n",
       "      <td>13</td>\n",
       "      <td>0</td>\n",
       "      <td>0</td>\n",
       "    </tr>\n",
       "    <tr>\n",
       "      <th>3</th>\n",
       "      <td>00003b41e58ede33b8daf61ab56d9952f17c9ad1c3976c...</td>\n",
       "      <td>0.514222</td>\n",
       "      <td>0.474728</td>\n",
       "      <td>0.028856</td>\n",
       "      <td>0.428457</td>\n",
       "      <td>0.514222</td>\n",
       "      <td>0.513186</td>\n",
       "      <td>14</td>\n",
       "      <td>15.846154</td>\n",
       "      <td>4.355957</td>\n",
       "      <td>...</td>\n",
       "      <td>13</td>\n",
       "      <td>13</td>\n",
       "      <td>13</td>\n",
       "      <td>13</td>\n",
       "      <td>13</td>\n",
       "      <td>13</td>\n",
       "      <td>13</td>\n",
       "      <td>13</td>\n",
       "      <td>0</td>\n",
       "      <td>1</td>\n",
       "    </tr>\n",
       "    <tr>\n",
       "      <th>4</th>\n",
       "      <td>00004b22eaeeeb0ec976890c1d9bfc14fd9427e98c4ee9...</td>\n",
       "      <td>0.286302</td>\n",
       "      <td>0.324100</td>\n",
       "      <td>0.049865</td>\n",
       "      <td>0.254478</td>\n",
       "      <td>0.425764</td>\n",
       "      <td>0.254478</td>\n",
       "      <td>6</td>\n",
       "      <td>11.846154</td>\n",
       "      <td>6.681394</td>\n",
       "      <td>...</td>\n",
       "      <td>13</td>\n",
       "      <td>13</td>\n",
       "      <td>13</td>\n",
       "      <td>13</td>\n",
       "      <td>13</td>\n",
       "      <td>13</td>\n",
       "      <td>13</td>\n",
       "      <td>13</td>\n",
       "      <td>1</td>\n",
       "      <td>1</td>\n",
       "    </tr>\n",
       "  </tbody>\n",
       "</table>\n",
       "<p>5 rows × 1020 columns</p>\n",
       "</div>"
      ],
      "text/plain": [
       "                                         customer_ID  P_2_first  P_2_mean  \\\n",
       "0  00000469ba478561f23a92a868bd366de6f6527a684c9a...   0.631315  0.601387   \n",
       "1  00001bf2e77ff879fab36aa4fac689b9ba411dae63ae39...   0.894195  0.862166   \n",
       "2  0000210045da4f81e5f122c6bde5c2a617d03eef67f82c...   0.774276  0.748955   \n",
       "3  00003b41e58ede33b8daf61ab56d9952f17c9ad1c3976c...   0.514222  0.474728   \n",
       "4  00004b22eaeeeb0ec976890c1d9bfc14fd9427e98c4ee9...   0.286302  0.324100   \n",
       "\n",
       "    P_2_std   P_2_min   P_2_max  P_2_last  D_39_first  D_39_mean  D_39_std  \\\n",
       "0  0.020190  0.568930  0.631315  0.568930           0   2.222222  3.527668   \n",
       "1  0.031436  0.794469  0.913501  0.841177          11   5.076923  6.034091   \n",
       "2  0.061456  0.673112  0.835114  0.697522          19   6.000000  9.000000   \n",
       "3  0.028856  0.428457  0.514222  0.513186          14  15.846154  4.355957   \n",
       "4  0.049865  0.254478  0.425764  0.254478           6  11.846154  6.681394   \n",
       "\n",
       "   ...  D_105null_count  D_110null_count  B_39null_count  B_42null_count  \\\n",
       "0  ...                9                9               9               9   \n",
       "1  ...               13               13              13              13   \n",
       "2  ...               13               13              13              13   \n",
       "3  ...               13               13              13              13   \n",
       "4  ...               13               13              13              13   \n",
       "\n",
       "   D_132null_count  D_134null_count  D_142null_count  nstatements  \\\n",
       "0                9                9                9            9   \n",
       "1               13               13               13           13   \n",
       "2               13               13               13           13   \n",
       "3               13               13               13           13   \n",
       "4               13               13               13           13   \n",
       "\n",
       "   prediction1  prediction2  \n",
       "0            0            0  \n",
       "1            0            0  \n",
       "2            0            0  \n",
       "3            0            1  \n",
       "4            1            1  \n",
       "\n",
       "[5 rows x 1020 columns]"
      ]
     },
     "execution_count": 49,
     "metadata": {},
     "output_type": "execute_result"
    }
   ],
   "source": [
    "test.head()"
   ]
  },
  {
   "cell_type": "code",
   "execution_count": 50,
   "id": "331cc81f",
   "metadata": {
    "execution": {
     "iopub.execute_input": "2023-07-22T09:49:54.408438Z",
     "iopub.status.busy": "2023-07-22T09:49:54.407909Z",
     "iopub.status.idle": "2023-07-22T09:50:55.513469Z",
     "shell.execute_reply": "2023-07-22T09:50:55.511540Z"
    },
    "papermill": {
     "duration": 61.162546,
     "end_time": "2023-07-22T09:50:55.516574",
     "exception": false,
     "start_time": "2023-07-22T09:49:54.354028",
     "status": "completed"
    },
    "tags": []
   },
   "outputs": [
    {
     "name": "stdout",
     "output_type": "stream",
     "text": [
      "3126/3126 [==============================] - 3s 996us/step\n",
      "3126/3126 [==============================] - 4s 1ms/step\n",
      "3126/3126 [==============================] - 4s 1ms/step\n",
      "3126/3126 [==============================] - 3s 1ms/step\n",
      "3126/3126 [==============================] - 3s 1ms/step\n",
      "3126/3126 [==============================] - 4s 1ms/step\n",
      "3126/3126 [==============================] - 3s 1ms/step\n",
      "3126/3126 [==============================] - 3s 1ms/step\n",
      "3126/3126 [==============================] - 3s 1ms/step\n"
     ]
    }
   ],
   "source": [
    "for i in range(9):\n",
    "    test.loc[100000*i:100000*(i+1),['prediction3']] = model3.predict(test.loc[100000*i:100000*(i+1),all_cols]).round()"
   ]
  },
  {
   "cell_type": "code",
   "execution_count": 51,
   "id": "49227033",
   "metadata": {
    "execution": {
     "iopub.execute_input": "2023-07-22T09:50:55.673696Z",
     "iopub.status.busy": "2023-07-22T09:50:55.672868Z",
     "iopub.status.idle": "2023-07-22T09:50:58.431179Z",
     "shell.execute_reply": "2023-07-22T09:50:58.429360Z"
    },
    "papermill": {
     "duration": 2.838573,
     "end_time": "2023-07-22T09:50:58.434110",
     "exception": false,
     "start_time": "2023-07-22T09:50:55.595537",
     "status": "completed"
    },
    "tags": []
   },
   "outputs": [
    {
     "name": "stdout",
     "output_type": "stream",
     "text": [
      "770/770 [==============================] - 1s 1ms/step\n"
     ]
    }
   ],
   "source": [
    "test.loc[900000:,['prediction3']] = model3.predict(test.loc[900000:,all_cols]).round()"
   ]
  },
  {
   "cell_type": "code",
   "execution_count": 52,
   "id": "73e70aa3",
   "metadata": {
    "execution": {
     "iopub.execute_input": "2023-07-22T09:50:58.600050Z",
     "iopub.status.busy": "2023-07-22T09:50:58.599485Z",
     "iopub.status.idle": "2023-07-22T09:50:58.605367Z",
     "shell.execute_reply": "2023-07-22T09:50:58.603581Z"
    },
    "papermill": {
     "duration": 0.093871,
     "end_time": "2023-07-22T09:50:58.608788",
     "exception": false,
     "start_time": "2023-07-22T09:50:58.514917",
     "status": "completed"
    },
    "tags": []
   },
   "outputs": [],
   "source": [
    "#predict = test[['customer_ID','prediction']].groupby('customer_ID')['prediction'].mean().round()"
   ]
  },
  {
   "cell_type": "code",
   "execution_count": 53,
   "id": "ed93bce5",
   "metadata": {
    "execution": {
     "iopub.execute_input": "2023-07-22T09:50:58.777776Z",
     "iopub.status.busy": "2023-07-22T09:50:58.777423Z",
     "iopub.status.idle": "2023-07-22T09:50:58.782518Z",
     "shell.execute_reply": "2023-07-22T09:50:58.781178Z"
    },
    "papermill": {
     "duration": 0.094111,
     "end_time": "2023-07-22T09:50:58.784814",
     "exception": false,
     "start_time": "2023-07-22T09:50:58.690703",
     "status": "completed"
    },
    "tags": []
   },
   "outputs": [],
   "source": [
    "#test['prediction'] = model3.predict(test.loc[:,all_cols])"
   ]
  },
  {
   "cell_type": "code",
   "execution_count": null,
   "id": "992063b7",
   "metadata": {
    "papermill": {
     "duration": 0.078544,
     "end_time": "2023-07-22T09:50:58.946536",
     "exception": false,
     "start_time": "2023-07-22T09:50:58.867992",
     "status": "completed"
    },
    "tags": []
   },
   "outputs": [],
   "source": []
  },
  {
   "cell_type": "code",
   "execution_count": null,
   "id": "af35e5b8",
   "metadata": {
    "papermill": {
     "duration": 0.087458,
     "end_time": "2023-07-22T09:50:59.114479",
     "exception": false,
     "start_time": "2023-07-22T09:50:59.027021",
     "status": "completed"
    },
    "tags": []
   },
   "outputs": [],
   "source": []
  },
  {
   "cell_type": "code",
   "execution_count": null,
   "id": "d8cc71d4",
   "metadata": {
    "papermill": {
     "duration": 0.085314,
     "end_time": "2023-07-22T09:50:59.283705",
     "exception": false,
     "start_time": "2023-07-22T09:50:59.198391",
     "status": "completed"
    },
    "tags": []
   },
   "outputs": [],
   "source": []
  },
  {
   "cell_type": "code",
   "execution_count": null,
   "id": "718e2c6f",
   "metadata": {
    "papermill": {
     "duration": 0.183271,
     "end_time": "2023-07-22T09:50:59.545655",
     "exception": false,
     "start_time": "2023-07-22T09:50:59.362384",
     "status": "completed"
    },
    "tags": []
   },
   "outputs": [],
   "source": []
  },
  {
   "cell_type": "markdown",
   "id": "1be47ad5",
   "metadata": {
    "papermill": {
     "duration": 0.081896,
     "end_time": "2023-07-22T09:50:59.707886",
     "exception": false,
     "start_time": "2023-07-22T09:50:59.625990",
     "status": "completed"
    },
    "tags": []
   },
   "source": [
    "# Ensembled"
   ]
  },
  {
   "cell_type": "code",
   "execution_count": 54,
   "id": "0ff70958",
   "metadata": {
    "execution": {
     "iopub.execute_input": "2023-07-22T09:50:59.867714Z",
     "iopub.status.busy": "2023-07-22T09:50:59.867355Z",
     "iopub.status.idle": "2023-07-22T09:50:59.881082Z",
     "shell.execute_reply": "2023-07-22T09:50:59.879072Z"
    },
    "papermill": {
     "duration": 0.099316,
     "end_time": "2023-07-22T09:50:59.883551",
     "exception": false,
     "start_time": "2023-07-22T09:50:59.784235",
     "status": "completed"
    },
    "tags": []
   },
   "outputs": [
    {
     "name": "stderr",
     "output_type": "stream",
     "text": [
      "/tmp/ipykernel_21/2268524996.py:1: PerformanceWarning: DataFrame is highly fragmented.  This is usually the result of calling `frame.insert` many times, which has poor performance.  Consider joining all columns at once using pd.concat(axis=1) instead. To get a de-fragmented frame, use `newframe = frame.copy()`\n",
      "  test['prediction'] = test['prediction1']*0.3 + test['prediction2']*0.4 + test['prediction3']*0.2\n"
     ]
    }
   ],
   "source": [
    "test['prediction'] = test['prediction1']*0.3 + test['prediction2']*0.4 + test['prediction3']*0.2\n",
    "#test['prediction'] = test['prediction1']*0.5 + test['prediction3']*0.5"
   ]
  },
  {
   "cell_type": "code",
   "execution_count": 55,
   "id": "2aad5c7e",
   "metadata": {
    "execution": {
     "iopub.execute_input": "2023-07-22T09:51:00.046985Z",
     "iopub.status.busy": "2023-07-22T09:51:00.046601Z",
     "iopub.status.idle": "2023-07-22T09:51:00.055311Z",
     "shell.execute_reply": "2023-07-22T09:51:00.053134Z"
    },
    "papermill": {
     "duration": 0.092893,
     "end_time": "2023-07-22T09:51:00.058749",
     "exception": false,
     "start_time": "2023-07-22T09:50:59.965856",
     "status": "completed"
    },
    "tags": []
   },
   "outputs": [],
   "source": [
    "test['prediction'] = test['prediction'].round()"
   ]
  },
  {
   "cell_type": "code",
   "execution_count": 56,
   "id": "61140557",
   "metadata": {
    "execution": {
     "iopub.execute_input": "2023-07-22T09:51:00.224873Z",
     "iopub.status.busy": "2023-07-22T09:51:00.224462Z",
     "iopub.status.idle": "2023-07-22T09:51:01.590918Z",
     "shell.execute_reply": "2023-07-22T09:51:01.588614Z"
    },
    "papermill": {
     "duration": 1.455153,
     "end_time": "2023-07-22T09:51:01.593897",
     "exception": false,
     "start_time": "2023-07-22T09:51:00.138744",
     "status": "completed"
    },
    "tags": []
   },
   "outputs": [],
   "source": [
    "predict = test[['customer_ID','prediction']]"
   ]
  },
  {
   "cell_type": "code",
   "execution_count": 57,
   "id": "bc1a018a",
   "metadata": {
    "execution": {
     "iopub.execute_input": "2023-07-22T09:51:01.760839Z",
     "iopub.status.busy": "2023-07-22T09:51:01.760487Z",
     "iopub.status.idle": "2023-07-22T09:51:01.767138Z",
     "shell.execute_reply": "2023-07-22T09:51:01.766481Z"
    },
    "papermill": {
     "duration": 0.093936,
     "end_time": "2023-07-22T09:51:01.769010",
     "exception": false,
     "start_time": "2023-07-22T09:51:01.675074",
     "status": "completed"
    },
    "tags": []
   },
   "outputs": [
    {
     "data": {
      "text/plain": [
       "0"
      ]
     },
     "execution_count": 57,
     "metadata": {},
     "output_type": "execute_result"
    }
   ],
   "source": [
    "predict['prediction'].isnull().sum()"
   ]
  },
  {
   "cell_type": "code",
   "execution_count": 58,
   "id": "cb2eeb5e",
   "metadata": {
    "execution": {
     "iopub.execute_input": "2023-07-22T09:51:01.936337Z",
     "iopub.status.busy": "2023-07-22T09:51:01.935927Z",
     "iopub.status.idle": "2023-07-22T09:51:01.946143Z",
     "shell.execute_reply": "2023-07-22T09:51:01.945265Z"
    },
    "papermill": {
     "duration": 0.096664,
     "end_time": "2023-07-22T09:51:01.948836",
     "exception": false,
     "start_time": "2023-07-22T09:51:01.852172",
     "status": "completed"
    },
    "tags": []
   },
   "outputs": [
    {
     "data": {
      "text/html": [
       "<div>\n",
       "<style scoped>\n",
       "    .dataframe tbody tr th:only-of-type {\n",
       "        vertical-align: middle;\n",
       "    }\n",
       "\n",
       "    .dataframe tbody tr th {\n",
       "        vertical-align: top;\n",
       "    }\n",
       "\n",
       "    .dataframe thead th {\n",
       "        text-align: right;\n",
       "    }\n",
       "</style>\n",
       "<table border=\"1\" class=\"dataframe\">\n",
       "  <thead>\n",
       "    <tr style=\"text-align: right;\">\n",
       "      <th></th>\n",
       "      <th>customer_ID</th>\n",
       "      <th>prediction</th>\n",
       "    </tr>\n",
       "  </thead>\n",
       "  <tbody>\n",
       "    <tr>\n",
       "      <th>0</th>\n",
       "      <td>00000469ba478561f23a92a868bd366de6f6527a684c9a...</td>\n",
       "      <td>0.0</td>\n",
       "    </tr>\n",
       "    <tr>\n",
       "      <th>1</th>\n",
       "      <td>00001bf2e77ff879fab36aa4fac689b9ba411dae63ae39...</td>\n",
       "      <td>0.0</td>\n",
       "    </tr>\n",
       "    <tr>\n",
       "      <th>2</th>\n",
       "      <td>0000210045da4f81e5f122c6bde5c2a617d03eef67f82c...</td>\n",
       "      <td>0.0</td>\n",
       "    </tr>\n",
       "    <tr>\n",
       "      <th>3</th>\n",
       "      <td>00003b41e58ede33b8daf61ab56d9952f17c9ad1c3976c...</td>\n",
       "      <td>1.0</td>\n",
       "    </tr>\n",
       "    <tr>\n",
       "      <th>4</th>\n",
       "      <td>00004b22eaeeeb0ec976890c1d9bfc14fd9427e98c4ee9...</td>\n",
       "      <td>1.0</td>\n",
       "    </tr>\n",
       "  </tbody>\n",
       "</table>\n",
       "</div>"
      ],
      "text/plain": [
       "                                         customer_ID  prediction\n",
       "0  00000469ba478561f23a92a868bd366de6f6527a684c9a...         0.0\n",
       "1  00001bf2e77ff879fab36aa4fac689b9ba411dae63ae39...         0.0\n",
       "2  0000210045da4f81e5f122c6bde5c2a617d03eef67f82c...         0.0\n",
       "3  00003b41e58ede33b8daf61ab56d9952f17c9ad1c3976c...         1.0\n",
       "4  00004b22eaeeeb0ec976890c1d9bfc14fd9427e98c4ee9...         1.0"
      ]
     },
     "execution_count": 58,
     "metadata": {},
     "output_type": "execute_result"
    }
   ],
   "source": [
    "predict.head()"
   ]
  },
  {
   "cell_type": "code",
   "execution_count": 59,
   "id": "7e3498d5",
   "metadata": {
    "execution": {
     "iopub.execute_input": "2023-07-22T09:51:02.114617Z",
     "iopub.status.busy": "2023-07-22T09:51:02.114203Z",
     "iopub.status.idle": "2023-07-22T09:51:02.134068Z",
     "shell.execute_reply": "2023-07-22T09:51:02.132940Z"
    },
    "papermill": {
     "duration": 0.104714,
     "end_time": "2023-07-22T09:51:02.136652",
     "exception": false,
     "start_time": "2023-07-22T09:51:02.031938",
     "status": "completed"
    },
    "tags": []
   },
   "outputs": [],
   "source": [
    "predict = predict.astype({'prediction':int})"
   ]
  },
  {
   "cell_type": "code",
   "execution_count": null,
   "id": "9ac6f864",
   "metadata": {
    "papermill": {
     "duration": 0.086036,
     "end_time": "2023-07-22T09:51:02.302537",
     "exception": false,
     "start_time": "2023-07-22T09:51:02.216501",
     "status": "completed"
    },
    "tags": []
   },
   "outputs": [],
   "source": []
  },
  {
   "cell_type": "code",
   "execution_count": null,
   "id": "25e23f69",
   "metadata": {
    "papermill": {
     "duration": 0.084567,
     "end_time": "2023-07-22T09:51:02.471817",
     "exception": false,
     "start_time": "2023-07-22T09:51:02.387250",
     "status": "completed"
    },
    "tags": []
   },
   "outputs": [],
   "source": []
  },
  {
   "cell_type": "code",
   "execution_count": null,
   "id": "568f4858",
   "metadata": {
    "papermill": {
     "duration": 0.084274,
     "end_time": "2023-07-22T09:51:02.637288",
     "exception": false,
     "start_time": "2023-07-22T09:51:02.553014",
     "status": "completed"
    },
    "tags": []
   },
   "outputs": [],
   "source": []
  },
  {
   "cell_type": "code",
   "execution_count": 60,
   "id": "bed0c867",
   "metadata": {
    "execution": {
     "iopub.execute_input": "2023-07-22T09:51:02.809638Z",
     "iopub.status.busy": "2023-07-22T09:51:02.809244Z",
     "iopub.status.idle": "2023-07-22T09:51:02.823534Z",
     "shell.execute_reply": "2023-07-22T09:51:02.822117Z"
    },
    "papermill": {
     "duration": 0.103648,
     "end_time": "2023-07-22T09:51:02.826189",
     "exception": false,
     "start_time": "2023-07-22T09:51:02.722541",
     "status": "completed"
    },
    "tags": []
   },
   "outputs": [
    {
     "data": {
      "text/html": [
       "<div>\n",
       "<style scoped>\n",
       "    .dataframe tbody tr th:only-of-type {\n",
       "        vertical-align: middle;\n",
       "    }\n",
       "\n",
       "    .dataframe tbody tr th {\n",
       "        vertical-align: top;\n",
       "    }\n",
       "\n",
       "    .dataframe thead th {\n",
       "        text-align: right;\n",
       "    }\n",
       "</style>\n",
       "<table border=\"1\" class=\"dataframe\">\n",
       "  <thead>\n",
       "    <tr style=\"text-align: right;\">\n",
       "      <th></th>\n",
       "      <th>customer_ID</th>\n",
       "      <th>prediction</th>\n",
       "    </tr>\n",
       "  </thead>\n",
       "  <tbody>\n",
       "    <tr>\n",
       "      <th>0</th>\n",
       "      <td>00000469ba478561f23a92a868bd366de6f6527a684c9a...</td>\n",
       "      <td>0</td>\n",
       "    </tr>\n",
       "    <tr>\n",
       "      <th>1</th>\n",
       "      <td>00001bf2e77ff879fab36aa4fac689b9ba411dae63ae39...</td>\n",
       "      <td>0</td>\n",
       "    </tr>\n",
       "    <tr>\n",
       "      <th>2</th>\n",
       "      <td>0000210045da4f81e5f122c6bde5c2a617d03eef67f82c...</td>\n",
       "      <td>0</td>\n",
       "    </tr>\n",
       "    <tr>\n",
       "      <th>3</th>\n",
       "      <td>00003b41e58ede33b8daf61ab56d9952f17c9ad1c3976c...</td>\n",
       "      <td>1</td>\n",
       "    </tr>\n",
       "    <tr>\n",
       "      <th>4</th>\n",
       "      <td>00004b22eaeeeb0ec976890c1d9bfc14fd9427e98c4ee9...</td>\n",
       "      <td>1</td>\n",
       "    </tr>\n",
       "  </tbody>\n",
       "</table>\n",
       "</div>"
      ],
      "text/plain": [
       "                                         customer_ID  prediction\n",
       "0  00000469ba478561f23a92a868bd366de6f6527a684c9a...           0\n",
       "1  00001bf2e77ff879fab36aa4fac689b9ba411dae63ae39...           0\n",
       "2  0000210045da4f81e5f122c6bde5c2a617d03eef67f82c...           0\n",
       "3  00003b41e58ede33b8daf61ab56d9952f17c9ad1c3976c...           1\n",
       "4  00004b22eaeeeb0ec976890c1d9bfc14fd9427e98c4ee9...           1"
      ]
     },
     "execution_count": 60,
     "metadata": {},
     "output_type": "execute_result"
    }
   ],
   "source": [
    "predict.head()"
   ]
  },
  {
   "cell_type": "code",
   "execution_count": 61,
   "id": "2af6c2c2",
   "metadata": {
    "execution": {
     "iopub.execute_input": "2023-07-22T09:51:02.986624Z",
     "iopub.status.busy": "2023-07-22T09:51:02.986254Z",
     "iopub.status.idle": "2023-07-22T09:51:04.227700Z",
     "shell.execute_reply": "2023-07-22T09:51:04.226633Z"
    },
    "papermill": {
     "duration": 1.323563,
     "end_time": "2023-07-22T09:51:04.230335",
     "exception": false,
     "start_time": "2023-07-22T09:51:02.906772",
     "status": "completed"
    },
    "tags": []
   },
   "outputs": [],
   "source": [
    "submission1 = pd.merge(submission['customer_ID'],predict,how='left',on='customer_ID')"
   ]
  },
  {
   "cell_type": "code",
   "execution_count": 62,
   "id": "c6c0c012",
   "metadata": {
    "execution": {
     "iopub.execute_input": "2023-07-22T09:51:04.395868Z",
     "iopub.status.busy": "2023-07-22T09:51:04.395496Z",
     "iopub.status.idle": "2023-07-22T09:51:06.166061Z",
     "shell.execute_reply": "2023-07-22T09:51:06.164317Z"
    },
    "papermill": {
     "duration": 1.858057,
     "end_time": "2023-07-22T09:51:06.169056",
     "exception": false,
     "start_time": "2023-07-22T09:51:04.310999",
     "status": "completed"
    },
    "tags": []
   },
   "outputs": [],
   "source": [
    "submission1.to_csv('submission.csv',index=False)"
   ]
  },
  {
   "cell_type": "code",
   "execution_count": 63,
   "id": "7ff73dec",
   "metadata": {
    "execution": {
     "iopub.execute_input": "2023-07-22T09:51:06.332455Z",
     "iopub.status.busy": "2023-07-22T09:51:06.332083Z",
     "iopub.status.idle": "2023-07-22T09:51:06.337164Z",
     "shell.execute_reply": "2023-07-22T09:51:06.335521Z"
    },
    "papermill": {
     "duration": 0.088097,
     "end_time": "2023-07-22T09:51:06.339855",
     "exception": false,
     "start_time": "2023-07-22T09:51:06.251758",
     "status": "completed"
    },
    "tags": []
   },
   "outputs": [],
   "source": [
    "#column_float = train.select_dtypes(include=['float32']).columns\n",
    "#train[column_float] = train[column_float].astype(np.float16)\n",
    "#test[column_float] = test[column_float].astype(np.float16)"
   ]
  },
  {
   "cell_type": "code",
   "execution_count": 64,
   "id": "e02ef4d8",
   "metadata": {
    "execution": {
     "iopub.execute_input": "2023-07-22T09:51:06.502074Z",
     "iopub.status.busy": "2023-07-22T09:51:06.501633Z",
     "iopub.status.idle": "2023-07-22T09:51:06.513355Z",
     "shell.execute_reply": "2023-07-22T09:51:06.511088Z"
    },
    "papermill": {
     "duration": 0.097155,
     "end_time": "2023-07-22T09:51:06.515893",
     "exception": false,
     "start_time": "2023-07-22T09:51:06.418738",
     "status": "completed"
    },
    "tags": []
   },
   "outputs": [
    {
     "data": {
      "text/html": [
       "<div>\n",
       "<style scoped>\n",
       "    .dataframe tbody tr th:only-of-type {\n",
       "        vertical-align: middle;\n",
       "    }\n",
       "\n",
       "    .dataframe tbody tr th {\n",
       "        vertical-align: top;\n",
       "    }\n",
       "\n",
       "    .dataframe thead th {\n",
       "        text-align: right;\n",
       "    }\n",
       "</style>\n",
       "<table border=\"1\" class=\"dataframe\">\n",
       "  <thead>\n",
       "    <tr style=\"text-align: right;\">\n",
       "      <th></th>\n",
       "      <th>customer_ID</th>\n",
       "      <th>prediction</th>\n",
       "    </tr>\n",
       "  </thead>\n",
       "  <tbody>\n",
       "    <tr>\n",
       "      <th>0</th>\n",
       "      <td>00000469ba478561f23a92a868bd366de6f6527a684c9a...</td>\n",
       "      <td>0</td>\n",
       "    </tr>\n",
       "    <tr>\n",
       "      <th>1</th>\n",
       "      <td>00001bf2e77ff879fab36aa4fac689b9ba411dae63ae39...</td>\n",
       "      <td>0</td>\n",
       "    </tr>\n",
       "    <tr>\n",
       "      <th>2</th>\n",
       "      <td>0000210045da4f81e5f122c6bde5c2a617d03eef67f82c...</td>\n",
       "      <td>0</td>\n",
       "    </tr>\n",
       "    <tr>\n",
       "      <th>3</th>\n",
       "      <td>00003b41e58ede33b8daf61ab56d9952f17c9ad1c3976c...</td>\n",
       "      <td>1</td>\n",
       "    </tr>\n",
       "    <tr>\n",
       "      <th>4</th>\n",
       "      <td>00004b22eaeeeb0ec976890c1d9bfc14fd9427e98c4ee9...</td>\n",
       "      <td>1</td>\n",
       "    </tr>\n",
       "  </tbody>\n",
       "</table>\n",
       "</div>"
      ],
      "text/plain": [
       "                                         customer_ID  prediction\n",
       "0  00000469ba478561f23a92a868bd366de6f6527a684c9a...           0\n",
       "1  00001bf2e77ff879fab36aa4fac689b9ba411dae63ae39...           0\n",
       "2  0000210045da4f81e5f122c6bde5c2a617d03eef67f82c...           0\n",
       "3  00003b41e58ede33b8daf61ab56d9952f17c9ad1c3976c...           1\n",
       "4  00004b22eaeeeb0ec976890c1d9bfc14fd9427e98c4ee9...           1"
      ]
     },
     "execution_count": 64,
     "metadata": {},
     "output_type": "execute_result"
    }
   ],
   "source": [
    "submission1.head()"
   ]
  }
 ],
 "metadata": {
  "kernelspec": {
   "display_name": "Python 3",
   "language": "python",
   "name": "python3"
  },
  "language_info": {
   "codemirror_mode": {
    "name": "ipython",
    "version": 3
   },
   "file_extension": ".py",
   "mimetype": "text/x-python",
   "name": "python",
   "nbconvert_exporter": "python",
   "pygments_lexer": "ipython3",
   "version": "3.10.10"
  },
  "papermill": {
   "default_parameters": {},
   "duration": 7000.421986,
   "end_time": "2023-07-22T09:51:09.555303",
   "environment_variables": {},
   "exception": null,
   "input_path": "__notebook__.ipynb",
   "output_path": "__notebook__.ipynb",
   "parameters": {},
   "start_time": "2023-07-22T07:54:29.133317",
   "version": "2.4.0"
  }
 },
 "nbformat": 4,
 "nbformat_minor": 5
}
